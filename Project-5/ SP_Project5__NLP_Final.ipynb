{
  "cells": [
    {
      "cell_type": "markdown",
      "metadata": {
        "id": "view-in-github",
        "colab_type": "text"
      },
      "source": [
        "<a href=\"https://colab.research.google.com/github/SPlearning27/DDDS-My-Projects/blob/main/Project-5/%20SP_Project5__NLP_Final.ipynb\" target=\"_parent\"><img src=\"https://colab.research.google.com/assets/colab-badge.svg\" alt=\"Open In Colab\"/></a>"
      ]
    },
    {
      "cell_type": "markdown",
      "metadata": {
        "id": "CxYSWPCsM0YU"
      },
      "source": [
        "# Natural Language Processing\n",
        "\n"
      ]
    },
    {
      "cell_type": "markdown",
      "metadata": {
        "id": "FGQCPUEuNezI"
      },
      "source": [
        "This project will give you practical experience using Natural Language Processing techniques. This project is in three parts:\n",
        "- in part 1) you will use a dataset in a CSV file\n",
        "- in part 2) you will use the Wikipedia API to directly access content\n",
        "on Wikipedia.\n",
        "- in part 3) you will make your notebook interactive\n"
      ]
    },
    {
      "cell_type": "code",
      "source": [
        "import numpy as np\n",
        "import pandas as pd\n",
        "import re\n",
        "\n",
        "from textblob import TextBlob\n",
        "from sklearn.feature_extraction.text import CountVectorizer\n",
        "from sklearn.feature_extraction.text import TfidfVectorizer\n",
        "from sklearn.feature_extraction.text import TfidfTransformer\n",
        "from sklearn.neighbors import NearestNeighbors\n",
        "\n",
        "pd.options.display.max_columns = 100\n",
        "\n",
        "import nltk\n",
        "# nltk.download('omw-1.4')\n",
        "nltk.download('punkt_tab')\n",
        "# nltk.download('averaged_perceptron_tagger_eng')"
      ],
      "metadata": {
        "colab": {
          "base_uri": "https://localhost:8080/"
        },
        "id": "FbiMai4eUL3i",
        "outputId": "2a41719d-30a4-4134-9a8c-666f6aafeab9"
      },
      "execution_count": null,
      "outputs": [
        {
          "output_type": "stream",
          "name": "stderr",
          "text": [
            "[nltk_data] Downloading package punkt_tab to /root/nltk_data...\n",
            "[nltk_data]   Unzipping tokenizers/punkt_tab.zip.\n"
          ]
        },
        {
          "output_type": "execute_result",
          "data": {
            "text/plain": [
              "True"
            ]
          },
          "metadata": {},
          "execution_count": 14
        }
      ]
    },
    {
      "cell_type": "code",
      "source": [
        "%%capture\n",
        "!python -m textblob.download_corpora\n"
      ],
      "metadata": {
        "id": "HrQAM0AfYQ2D"
      },
      "execution_count": null,
      "outputs": []
    },
    {
      "cell_type": "markdown",
      "metadata": {
        "id": "IP5iaS9lNamW"
      },
      "source": [
        "# Part 1)\n",
        "\n"
      ]
    },
    {
      "cell_type": "markdown",
      "metadata": {
        "id": "twaXGmp6OAPK"
      },
      "source": [
        "- The CSV file is available at https://ddc-datascience.s3.amazonaws.com/Projects/Project.5-NLP/Data/NLP.csv\n",
        "- The file contains a list of famous people and a brief overview.\n",
        "- The goal of part 1) is to ...\n",
        "  1. Pick one person from the list ( the target person ) and output 10 other people who's overview are \"closest\" to the target person in a Natural Language Processing sense\n",
        "  1. Also output the sentiment of the overview of the target person\n",
        "\n"
      ]
    },
    {
      "cell_type": "code",
      "source": [
        "url = \"https://ddc-datascience.s3.amazonaws.com/Projects/Project.5-NLP/Data/NLP.csv\"\n",
        "!curl -s -I {url}"
      ],
      "metadata": {
        "colab": {
          "base_uri": "https://localhost:8080/"
        },
        "collapsed": true,
        "id": "jtXxgL1iUEZo",
        "outputId": "3fd770a3-94b6-4235-a14b-61a97203446c"
      },
      "execution_count": null,
      "outputs": [
        {
          "output_type": "stream",
          "name": "stdout",
          "text": [
            "HTTP/1.1 200 OK\r\n",
            "\u001b[1mx-amz-id-2\u001b[0m: rsbVVkt7ltMUT91TWfBS733Vgsr1X1FvZUmp1ryqLoF1IQoUIaG8GGMEGJh6e+iuwws4S6X2dfs=\r\n",
            "\u001b[1mx-amz-request-id\u001b[0m: 07K02KM9RF9VGHAE\r\n",
            "\u001b[1mDate\u001b[0m: Tue, 15 Jul 2025 20:13:09 GMT\r\n",
            "\u001b[1mLast-Modified\u001b[0m: Mon, 23 Oct 2023 18:30:29 GMT\r\n",
            "\u001b[1mETag\u001b[0m: \"f4f3b3bc07aa7b6dddb6e383fc52ae64-10\"\r\n",
            "\u001b[1mx-amz-server-side-encryption\u001b[0m: AES256\r\n",
            "\u001b[1mAccept-Ranges\u001b[0m: bytes\r\n",
            "\u001b[1mContent-Type\u001b[0m: text/csv\r\n",
            "\u001b[1mContent-Length\u001b[0m: 83886080\r\n",
            "\u001b[1mServer\u001b[0m: AmazonS3\r\n",
            "\r\n"
          ]
        }
      ]
    },
    {
      "cell_type": "code",
      "source": [
        "!curl -s -O {url}"
      ],
      "metadata": {
        "id": "jw62Vao7VSDA"
      },
      "execution_count": null,
      "outputs": []
    },
    {
      "cell_type": "code",
      "source": [
        "ls -la"
      ],
      "metadata": {
        "colab": {
          "base_uri": "https://localhost:8080/"
        },
        "collapsed": true,
        "id": "KpUBdOJeURR7",
        "outputId": "9aa79ecb-b554-42ed-843a-fa6981ee5213"
      },
      "execution_count": null,
      "outputs": [
        {
          "output_type": "stream",
          "name": "stdout",
          "text": [
            "total 81936\n",
            "drwxr-xr-x 1 root root     4096 Jul 15 20:13 \u001b[0m\u001b[01;34m.\u001b[0m/\n",
            "drwxr-xr-x 1 root root     4096 Jul 15 17:58 \u001b[01;34m..\u001b[0m/\n",
            "drwxr-xr-x 4 root root     4096 Jul 14 13:37 \u001b[01;34m.config\u001b[0m/\n",
            "-rw-r--r-- 1 root root 83886080 Jul 15 20:13 NLP.csv\n",
            "drwxr-xr-x 1 root root     4096 Jul 14 13:37 \u001b[01;34msample_data\u001b[0m/\n"
          ]
        }
      ]
    },
    {
      "cell_type": "code",
      "source": [
        "!head -1 NLP.csv | tr , '\\n' | cat -n"
      ],
      "metadata": {
        "colab": {
          "base_uri": "https://localhost:8080/"
        },
        "id": "h8bFcQTFVW3V",
        "outputId": "18e05ac5-114a-44f7-b38e-aae382c37468"
      },
      "execution_count": null,
      "outputs": [
        {
          "output_type": "stream",
          "name": "stdout",
          "text": [
            "     1\tURI\n",
            "     2\tname\n",
            "     3\ttext\n"
          ]
        }
      ]
    },
    {
      "cell_type": "code",
      "source": [
        "og_npl_data = pd.read_csv(url)\n",
        "og_npl_data"
      ],
      "metadata": {
        "colab": {
          "base_uri": "https://localhost:8080/",
          "height": 493
        },
        "id": "wtAcP1aNVy5e",
        "outputId": "7ddfd94c-54e9-4b0b-b21f-38e223e58114"
      },
      "execution_count": null,
      "outputs": [
        {
          "output_type": "execute_result",
          "data": {
            "text/plain": [
              "                                                     URI  \\\n",
              "0            <http://dbpedia.org/resource/Digby_Morrell>   \n",
              "1           <http://dbpedia.org/resource/Alfred_J._Lewy>   \n",
              "2            <http://dbpedia.org/resource/Harpdog_Brown>   \n",
              "3      <http://dbpedia.org/resource/Franz_Rottensteiner>   \n",
              "4                   <http://dbpedia.org/resource/G-Enka>   \n",
              "...                                                  ...   \n",
              "42781   <http://dbpedia.org/resource/Motoaki_Takenouchi>   \n",
              "42782  <http://dbpedia.org/resource/Alan_Judge_(footb...   \n",
              "42783         <http://dbpedia.org/resource/Eduardo_Lara>   \n",
              "42784  <http://dbpedia.org/resource/Tatiana_Faberg%C3...   \n",
              "42785       <http://dbpedia.org/resource/Kenneth_Thomas>   \n",
              "\n",
              "                                     name  \\\n",
              "0                           Digby Morrell   \n",
              "1                          Alfred J. Lewy   \n",
              "2                           Harpdog Brown   \n",
              "3                     Franz Rottensteiner   \n",
              "4                                  G-Enka   \n",
              "...                                   ...   \n",
              "42781                  Motoaki Takenouchi   \n",
              "42782  Alan Judge (footballer, born 1960)   \n",
              "42783                        Eduardo Lara   \n",
              "42784                Tatiana Faberg%C3%A9   \n",
              "42785                      Kenneth Thomas   \n",
              "\n",
              "                                                    text  \n",
              "0      digby morrell born 10 october 1979 is a former...  \n",
              "1      alfred j lewy aka sandy lewy graduated from un...  \n",
              "2      harpdog brown is a singer and harmonica player...  \n",
              "3      franz rottensteiner born in waidmannsfeld lowe...  \n",
              "4      henry krvits born 30 december 1974 in tallinn ...  \n",
              "...                                                  ...  \n",
              "42781  motoaki takenouchi born july 8 1967 saitama pr...  \n",
              "42782  alan graham judge born 14 may 1960 is a retire...  \n",
              "42783  eduardo lara lozano born 4 september 1959 in c...  \n",
              "42784  tatiana faberg is an author and faberg scholar...  \n",
              "42785  kenneth thomas born february 24 1938 was chief...  \n",
              "\n",
              "[42786 rows x 3 columns]"
            ],
            "text/html": [
              "\n",
              "  <div id=\"df-e3a3d59b-a8a8-43a1-8c0f-3ee5ede2c97c\" class=\"colab-df-container\">\n",
              "    <div>\n",
              "<style scoped>\n",
              "    .dataframe tbody tr th:only-of-type {\n",
              "        vertical-align: middle;\n",
              "    }\n",
              "\n",
              "    .dataframe tbody tr th {\n",
              "        vertical-align: top;\n",
              "    }\n",
              "\n",
              "    .dataframe thead th {\n",
              "        text-align: right;\n",
              "    }\n",
              "</style>\n",
              "<table border=\"1\" class=\"dataframe\">\n",
              "  <thead>\n",
              "    <tr style=\"text-align: right;\">\n",
              "      <th></th>\n",
              "      <th>URI</th>\n",
              "      <th>name</th>\n",
              "      <th>text</th>\n",
              "    </tr>\n",
              "  </thead>\n",
              "  <tbody>\n",
              "    <tr>\n",
              "      <th>0</th>\n",
              "      <td>&lt;http://dbpedia.org/resource/Digby_Morrell&gt;</td>\n",
              "      <td>Digby Morrell</td>\n",
              "      <td>digby morrell born 10 october 1979 is a former...</td>\n",
              "    </tr>\n",
              "    <tr>\n",
              "      <th>1</th>\n",
              "      <td>&lt;http://dbpedia.org/resource/Alfred_J._Lewy&gt;</td>\n",
              "      <td>Alfred J. Lewy</td>\n",
              "      <td>alfred j lewy aka sandy lewy graduated from un...</td>\n",
              "    </tr>\n",
              "    <tr>\n",
              "      <th>2</th>\n",
              "      <td>&lt;http://dbpedia.org/resource/Harpdog_Brown&gt;</td>\n",
              "      <td>Harpdog Brown</td>\n",
              "      <td>harpdog brown is a singer and harmonica player...</td>\n",
              "    </tr>\n",
              "    <tr>\n",
              "      <th>3</th>\n",
              "      <td>&lt;http://dbpedia.org/resource/Franz_Rottensteiner&gt;</td>\n",
              "      <td>Franz Rottensteiner</td>\n",
              "      <td>franz rottensteiner born in waidmannsfeld lowe...</td>\n",
              "    </tr>\n",
              "    <tr>\n",
              "      <th>4</th>\n",
              "      <td>&lt;http://dbpedia.org/resource/G-Enka&gt;</td>\n",
              "      <td>G-Enka</td>\n",
              "      <td>henry krvits born 30 december 1974 in tallinn ...</td>\n",
              "    </tr>\n",
              "    <tr>\n",
              "      <th>...</th>\n",
              "      <td>...</td>\n",
              "      <td>...</td>\n",
              "      <td>...</td>\n",
              "    </tr>\n",
              "    <tr>\n",
              "      <th>42781</th>\n",
              "      <td>&lt;http://dbpedia.org/resource/Motoaki_Takenouchi&gt;</td>\n",
              "      <td>Motoaki Takenouchi</td>\n",
              "      <td>motoaki takenouchi born july 8 1967 saitama pr...</td>\n",
              "    </tr>\n",
              "    <tr>\n",
              "      <th>42782</th>\n",
              "      <td>&lt;http://dbpedia.org/resource/Alan_Judge_(footb...</td>\n",
              "      <td>Alan Judge (footballer, born 1960)</td>\n",
              "      <td>alan graham judge born 14 may 1960 is a retire...</td>\n",
              "    </tr>\n",
              "    <tr>\n",
              "      <th>42783</th>\n",
              "      <td>&lt;http://dbpedia.org/resource/Eduardo_Lara&gt;</td>\n",
              "      <td>Eduardo Lara</td>\n",
              "      <td>eduardo lara lozano born 4 september 1959 in c...</td>\n",
              "    </tr>\n",
              "    <tr>\n",
              "      <th>42784</th>\n",
              "      <td>&lt;http://dbpedia.org/resource/Tatiana_Faberg%C3...</td>\n",
              "      <td>Tatiana Faberg%C3%A9</td>\n",
              "      <td>tatiana faberg is an author and faberg scholar...</td>\n",
              "    </tr>\n",
              "    <tr>\n",
              "      <th>42785</th>\n",
              "      <td>&lt;http://dbpedia.org/resource/Kenneth_Thomas&gt;</td>\n",
              "      <td>Kenneth Thomas</td>\n",
              "      <td>kenneth thomas born february 24 1938 was chief...</td>\n",
              "    </tr>\n",
              "  </tbody>\n",
              "</table>\n",
              "<p>42786 rows × 3 columns</p>\n",
              "</div>\n",
              "    <div class=\"colab-df-buttons\">\n",
              "\n",
              "  <div class=\"colab-df-container\">\n",
              "    <button class=\"colab-df-convert\" onclick=\"convertToInteractive('df-e3a3d59b-a8a8-43a1-8c0f-3ee5ede2c97c')\"\n",
              "            title=\"Convert this dataframe to an interactive table.\"\n",
              "            style=\"display:none;\">\n",
              "\n",
              "  <svg xmlns=\"http://www.w3.org/2000/svg\" height=\"24px\" viewBox=\"0 -960 960 960\">\n",
              "    <path d=\"M120-120v-720h720v720H120Zm60-500h600v-160H180v160Zm220 220h160v-160H400v160Zm0 220h160v-160H400v160ZM180-400h160v-160H180v160Zm440 0h160v-160H620v160ZM180-180h160v-160H180v160Zm440 0h160v-160H620v160Z\"/>\n",
              "  </svg>\n",
              "    </button>\n",
              "\n",
              "  <style>\n",
              "    .colab-df-container {\n",
              "      display:flex;\n",
              "      gap: 12px;\n",
              "    }\n",
              "\n",
              "    .colab-df-convert {\n",
              "      background-color: #E8F0FE;\n",
              "      border: none;\n",
              "      border-radius: 50%;\n",
              "      cursor: pointer;\n",
              "      display: none;\n",
              "      fill: #1967D2;\n",
              "      height: 32px;\n",
              "      padding: 0 0 0 0;\n",
              "      width: 32px;\n",
              "    }\n",
              "\n",
              "    .colab-df-convert:hover {\n",
              "      background-color: #E2EBFA;\n",
              "      box-shadow: 0px 1px 2px rgba(60, 64, 67, 0.3), 0px 1px 3px 1px rgba(60, 64, 67, 0.15);\n",
              "      fill: #174EA6;\n",
              "    }\n",
              "\n",
              "    .colab-df-buttons div {\n",
              "      margin-bottom: 4px;\n",
              "    }\n",
              "\n",
              "    [theme=dark] .colab-df-convert {\n",
              "      background-color: #3B4455;\n",
              "      fill: #D2E3FC;\n",
              "    }\n",
              "\n",
              "    [theme=dark] .colab-df-convert:hover {\n",
              "      background-color: #434B5C;\n",
              "      box-shadow: 0px 1px 3px 1px rgba(0, 0, 0, 0.15);\n",
              "      filter: drop-shadow(0px 1px 2px rgba(0, 0, 0, 0.3));\n",
              "      fill: #FFFFFF;\n",
              "    }\n",
              "  </style>\n",
              "\n",
              "    <script>\n",
              "      const buttonEl =\n",
              "        document.querySelector('#df-e3a3d59b-a8a8-43a1-8c0f-3ee5ede2c97c button.colab-df-convert');\n",
              "      buttonEl.style.display =\n",
              "        google.colab.kernel.accessAllowed ? 'block' : 'none';\n",
              "\n",
              "      async function convertToInteractive(key) {\n",
              "        const element = document.querySelector('#df-e3a3d59b-a8a8-43a1-8c0f-3ee5ede2c97c');\n",
              "        const dataTable =\n",
              "          await google.colab.kernel.invokeFunction('convertToInteractive',\n",
              "                                                    [key], {});\n",
              "        if (!dataTable) return;\n",
              "\n",
              "        const docLinkHtml = 'Like what you see? Visit the ' +\n",
              "          '<a target=\"_blank\" href=https://colab.research.google.com/notebooks/data_table.ipynb>data table notebook</a>'\n",
              "          + ' to learn more about interactive tables.';\n",
              "        element.innerHTML = '';\n",
              "        dataTable['output_type'] = 'display_data';\n",
              "        await google.colab.output.renderOutput(dataTable, element);\n",
              "        const docLink = document.createElement('div');\n",
              "        docLink.innerHTML = docLinkHtml;\n",
              "        element.appendChild(docLink);\n",
              "      }\n",
              "    </script>\n",
              "  </div>\n",
              "\n",
              "\n",
              "    <div id=\"df-2fc4dc13-b65b-47d4-850a-3a6eef505ccc\">\n",
              "      <button class=\"colab-df-quickchart\" onclick=\"quickchart('df-2fc4dc13-b65b-47d4-850a-3a6eef505ccc')\"\n",
              "                title=\"Suggest charts\"\n",
              "                style=\"display:none;\">\n",
              "\n",
              "<svg xmlns=\"http://www.w3.org/2000/svg\" height=\"24px\"viewBox=\"0 0 24 24\"\n",
              "     width=\"24px\">\n",
              "    <g>\n",
              "        <path d=\"M19 3H5c-1.1 0-2 .9-2 2v14c0 1.1.9 2 2 2h14c1.1 0 2-.9 2-2V5c0-1.1-.9-2-2-2zM9 17H7v-7h2v7zm4 0h-2V7h2v10zm4 0h-2v-4h2v4z\"/>\n",
              "    </g>\n",
              "</svg>\n",
              "      </button>\n",
              "\n",
              "<style>\n",
              "  .colab-df-quickchart {\n",
              "      --bg-color: #E8F0FE;\n",
              "      --fill-color: #1967D2;\n",
              "      --hover-bg-color: #E2EBFA;\n",
              "      --hover-fill-color: #174EA6;\n",
              "      --disabled-fill-color: #AAA;\n",
              "      --disabled-bg-color: #DDD;\n",
              "  }\n",
              "\n",
              "  [theme=dark] .colab-df-quickchart {\n",
              "      --bg-color: #3B4455;\n",
              "      --fill-color: #D2E3FC;\n",
              "      --hover-bg-color: #434B5C;\n",
              "      --hover-fill-color: #FFFFFF;\n",
              "      --disabled-bg-color: #3B4455;\n",
              "      --disabled-fill-color: #666;\n",
              "  }\n",
              "\n",
              "  .colab-df-quickchart {\n",
              "    background-color: var(--bg-color);\n",
              "    border: none;\n",
              "    border-radius: 50%;\n",
              "    cursor: pointer;\n",
              "    display: none;\n",
              "    fill: var(--fill-color);\n",
              "    height: 32px;\n",
              "    padding: 0;\n",
              "    width: 32px;\n",
              "  }\n",
              "\n",
              "  .colab-df-quickchart:hover {\n",
              "    background-color: var(--hover-bg-color);\n",
              "    box-shadow: 0 1px 2px rgba(60, 64, 67, 0.3), 0 1px 3px 1px rgba(60, 64, 67, 0.15);\n",
              "    fill: var(--button-hover-fill-color);\n",
              "  }\n",
              "\n",
              "  .colab-df-quickchart-complete:disabled,\n",
              "  .colab-df-quickchart-complete:disabled:hover {\n",
              "    background-color: var(--disabled-bg-color);\n",
              "    fill: var(--disabled-fill-color);\n",
              "    box-shadow: none;\n",
              "  }\n",
              "\n",
              "  .colab-df-spinner {\n",
              "    border: 2px solid var(--fill-color);\n",
              "    border-color: transparent;\n",
              "    border-bottom-color: var(--fill-color);\n",
              "    animation:\n",
              "      spin 1s steps(1) infinite;\n",
              "  }\n",
              "\n",
              "  @keyframes spin {\n",
              "    0% {\n",
              "      border-color: transparent;\n",
              "      border-bottom-color: var(--fill-color);\n",
              "      border-left-color: var(--fill-color);\n",
              "    }\n",
              "    20% {\n",
              "      border-color: transparent;\n",
              "      border-left-color: var(--fill-color);\n",
              "      border-top-color: var(--fill-color);\n",
              "    }\n",
              "    30% {\n",
              "      border-color: transparent;\n",
              "      border-left-color: var(--fill-color);\n",
              "      border-top-color: var(--fill-color);\n",
              "      border-right-color: var(--fill-color);\n",
              "    }\n",
              "    40% {\n",
              "      border-color: transparent;\n",
              "      border-right-color: var(--fill-color);\n",
              "      border-top-color: var(--fill-color);\n",
              "    }\n",
              "    60% {\n",
              "      border-color: transparent;\n",
              "      border-right-color: var(--fill-color);\n",
              "    }\n",
              "    80% {\n",
              "      border-color: transparent;\n",
              "      border-right-color: var(--fill-color);\n",
              "      border-bottom-color: var(--fill-color);\n",
              "    }\n",
              "    90% {\n",
              "      border-color: transparent;\n",
              "      border-bottom-color: var(--fill-color);\n",
              "    }\n",
              "  }\n",
              "</style>\n",
              "\n",
              "      <script>\n",
              "        async function quickchart(key) {\n",
              "          const quickchartButtonEl =\n",
              "            document.querySelector('#' + key + ' button');\n",
              "          quickchartButtonEl.disabled = true;  // To prevent multiple clicks.\n",
              "          quickchartButtonEl.classList.add('colab-df-spinner');\n",
              "          try {\n",
              "            const charts = await google.colab.kernel.invokeFunction(\n",
              "                'suggestCharts', [key], {});\n",
              "          } catch (error) {\n",
              "            console.error('Error during call to suggestCharts:', error);\n",
              "          }\n",
              "          quickchartButtonEl.classList.remove('colab-df-spinner');\n",
              "          quickchartButtonEl.classList.add('colab-df-quickchart-complete');\n",
              "        }\n",
              "        (() => {\n",
              "          let quickchartButtonEl =\n",
              "            document.querySelector('#df-2fc4dc13-b65b-47d4-850a-3a6eef505ccc button');\n",
              "          quickchartButtonEl.style.display =\n",
              "            google.colab.kernel.accessAllowed ? 'block' : 'none';\n",
              "        })();\n",
              "      </script>\n",
              "    </div>\n",
              "\n",
              "  <div id=\"id_9bf8f236-9339-4454-a4d3-2ca7c56cf70e\">\n",
              "    <style>\n",
              "      .colab-df-generate {\n",
              "        background-color: #E8F0FE;\n",
              "        border: none;\n",
              "        border-radius: 50%;\n",
              "        cursor: pointer;\n",
              "        display: none;\n",
              "        fill: #1967D2;\n",
              "        height: 32px;\n",
              "        padding: 0 0 0 0;\n",
              "        width: 32px;\n",
              "      }\n",
              "\n",
              "      .colab-df-generate:hover {\n",
              "        background-color: #E2EBFA;\n",
              "        box-shadow: 0px 1px 2px rgba(60, 64, 67, 0.3), 0px 1px 3px 1px rgba(60, 64, 67, 0.15);\n",
              "        fill: #174EA6;\n",
              "      }\n",
              "\n",
              "      [theme=dark] .colab-df-generate {\n",
              "        background-color: #3B4455;\n",
              "        fill: #D2E3FC;\n",
              "      }\n",
              "\n",
              "      [theme=dark] .colab-df-generate:hover {\n",
              "        background-color: #434B5C;\n",
              "        box-shadow: 0px 1px 3px 1px rgba(0, 0, 0, 0.15);\n",
              "        filter: drop-shadow(0px 1px 2px rgba(0, 0, 0, 0.3));\n",
              "        fill: #FFFFFF;\n",
              "      }\n",
              "    </style>\n",
              "    <button class=\"colab-df-generate\" onclick=\"generateWithVariable('og_npl_data')\"\n",
              "            title=\"Generate code using this dataframe.\"\n",
              "            style=\"display:none;\">\n",
              "\n",
              "  <svg xmlns=\"http://www.w3.org/2000/svg\" height=\"24px\"viewBox=\"0 0 24 24\"\n",
              "       width=\"24px\">\n",
              "    <path d=\"M7,19H8.4L18.45,9,17,7.55,7,17.6ZM5,21V16.75L18.45,3.32a2,2,0,0,1,2.83,0l1.4,1.43a1.91,1.91,0,0,1,.58,1.4,1.91,1.91,0,0,1-.58,1.4L9.25,21ZM18.45,9,17,7.55Zm-12,3A5.31,5.31,0,0,0,4.9,8.1,5.31,5.31,0,0,0,1,6.5,5.31,5.31,0,0,0,4.9,4.9,5.31,5.31,0,0,0,6.5,1,5.31,5.31,0,0,0,8.1,4.9,5.31,5.31,0,0,0,12,6.5,5.46,5.46,0,0,0,6.5,12Z\"/>\n",
              "  </svg>\n",
              "    </button>\n",
              "    <script>\n",
              "      (() => {\n",
              "      const buttonEl =\n",
              "        document.querySelector('#id_9bf8f236-9339-4454-a4d3-2ca7c56cf70e button.colab-df-generate');\n",
              "      buttonEl.style.display =\n",
              "        google.colab.kernel.accessAllowed ? 'block' : 'none';\n",
              "\n",
              "      buttonEl.onclick = () => {\n",
              "        google.colab.notebook.generateWithVariable('og_npl_data');\n",
              "      }\n",
              "      })();\n",
              "    </script>\n",
              "  </div>\n",
              "\n",
              "    </div>\n",
              "  </div>\n"
            ],
            "application/vnd.google.colaboratory.intrinsic+json": {
              "type": "dataframe",
              "variable_name": "og_npl_data",
              "summary": "{\n  \"name\": \"og_npl_data\",\n  \"rows\": 42786,\n  \"fields\": [\n    {\n      \"column\": \"URI\",\n      \"properties\": {\n        \"dtype\": \"string\",\n        \"num_unique_values\": 42786,\n        \"samples\": [\n          \"<http://dbpedia.org/resource/Tom_Bancroft>\",\n          \"<http://dbpedia.org/resource/Bart_Zeller>\",\n          \"<http://dbpedia.org/resource/Caitlin_Morrall>\"\n        ],\n        \"semantic_type\": \"\",\n        \"description\": \"\"\n      }\n    },\n    {\n      \"column\": \"name\",\n      \"properties\": {\n        \"dtype\": \"string\",\n        \"num_unique_values\": 42785,\n        \"samples\": [\n          \"Tom Bancroft\",\n          \"James Holt (scholar)\",\n          \"Chen Tze-chung\"\n        ],\n        \"semantic_type\": \"\",\n        \"description\": \"\"\n      }\n    },\n    {\n      \"column\": \"text\",\n      \"properties\": {\n        \"dtype\": \"string\",\n        \"num_unique_values\": 42786,\n        \"samples\": [\n          \"tom bancroft born 1967 london is a british jazz drummer and composer he began drumming aged seven and started off playing jazz with his father and identical twin brother phil after studying medicine at cambridge university he spent a year studying composition and arranging at mcgill university in montreal canada qualifying as a doctor in 1992 he then worked as a jazz musician and composer supporting his music income with locum work as a hospital doctor until 1998 when he began starting music related companies he is married to singer gina rae and has two children sam and sophie in 2004 he received the creative scotland awardin 1998 he launched caber music with support from the national lottery fund which went on to release over thirty cds over the next seven years to critical acclaim including two bbc jazz awards for best cd and numerous album of the year placings he has subsequently started the company abc creative music with his twin brother phil bancroft which develops creative music education resources which are now being used in more than 500 schools in scotlandas a drummer he has studied with jo morello joey baron and andrew cyrille and played with many musicians including sun ra joakim milder charlie mariano hamiett bluiett liane carroll oliver lake george colligan david berkman tommy smith julian argelles emil vicklicky martin taylor sheila jordan shooglenifty karen mathieson reid anderson billy jenkins bill wells geri allen mr mcfalls chamber and martyn bennetthe is currently the drummer with the dave milligan trio the chick lyall trio and kevin mackenzies vital signs the laura macdonald quartet and octet and plays in an improvising duo with the italian guitarist enzo roccohe is drummer and coleader of trio aab whose first album cold fusion was named an album of 1999 by bbc radio 3 and whose second album wherever i lay my home thats my hat was an album of 2001 in the guardian and picked in a list of 100 essential all time jazz albums by mojo magazine in 2001 they also released stranger things happen at c in 2002 reactivated in 2011 trio aab performed at the delhi jazz festivalas a band leader and composer he has led orchestro interrupto formerly the tom bancroft orchestra a contemporary jazz big band producing the album pieology in 1998 many festival performances a uk tour and a live concert broadcast on bbc radio 3 in 2004 the band toured the uk with geri allen and the tour was broadcast on bbc radio 3 and received five star reviews in the guardian and the scotsman and was voted jazz gig of the year in manchesters city limits and londons time out magazines orchestri interrupto released a cd in 2009 of the music from the geri allen tour with chick lyall on piano entitled the ballad of linda crawford bancroft has also composed for smaller groups including the orange ear ensemble octet and kilt couture a collaboration with french group arfi in 2006 he launched the new tom bancroft 6 pack as well as a spinoff childrens focussed band from the orchestra called kidsamonium which premiered at the gateshead international jazz festival at the sage gateshead and also at the cheltenham jazz festival in 2006 and went on to perform all over europebancrofts compositions have been used in radio film dance television and theatre he has been commissioned by bbc scotland bbc radio 3 glasgow international jazz festival assembly direct birmingham jazz and the national youth jazz orchestra of scotland he has danced in played and composed music for life on the planets surface with kelsey michael and a case for a picnic pt2 tracing houdini and hoops hats acrobats with the choreographer ruby worthhe has led many large scale community and education projects including 150 primary school children performing at the london jazz festival 200 at perth concert hall with classical percussionist colin currie and 100 parents grandparents and children playing drums and percussion at the big stix project at the gateshead jazz festivalbancroft is an active teacher and educator from private drum students to teaching composition and leading big bands he is an apple distinguished educator he has always been active in setting up new ways to promote jazz and improvisation he curated a series of mini festivals for uk and european musicians inside the glasgow jazz festival in the 1990s called clandemonium and europhonium he was active in setting up the scottish jazz federationin 2010 he was musical director of major dance show off kilter which played in major venues across scotland toured scotland with the dave milligan trio and premiered the band of eden malefemale big band to critical acclaimin late 2010 in his role at abc creative music bancroft launched the website abc creative music online to allow scottish schools to teach creative music by smartboard\",\n          \"barton wallace zeller born july 22 1941 is a former professional baseball catcher he played one game in major league baseball in 1970 for the st louis cardinals he recently served as manager of the joliet slammers of the frontier league but was released on september 10 2012zeller was signed by the cardinals in 1963 and spent four years in the cardinals farm system after missing the 1967 season he spent 1968 and 1969 with the lewiston broncs and arkansas travelers respectively zeller played in his only major league game on may 21 1970 against the philadelphia phillies he was inserted to catch the bottom of the ninth inning zeller never had a plate appearance but was credited with one put out on billy mccools strikeout of jim hutto zeller batted and threw righthanded his jersey number was 29 at the time of play he was 6 ft 1 in tall and weighed 185 lbzeller was released as an active player by the cardinals on june 8 but stayed on as a coach for the balance of the 1970 season he played in the minors in 1971 in the milwaukee brewers and new york yankees organizationszeller was the hitting coachthird base coach for the southern illinois miners of the frontier league an independent baseball league zeller began working for the miners in their inaugural 2007 season before coming to the miners zeller spent two seasons with the sioux falls canaries as a bench coach zeller was named as the first manager of slammers in january 2011zeller is currently managing the washington wild things of the frontier league\",\n          \"caitlin shea morrall machol born may 2 1983 is a beauty queen from burlington wisconsin who competed in the 2008 miss usa pageantmorrall who had previously competed in the miss wisconsin america system won the miss wisconsin usa 2007 title in the state pageant held at richland center on 2 september 2006 she competed in the nationally televised miss usa 2007 pageant which was broadcast live from the kodak theatre in hollywood california on march 23 2007 where she placed in top 15 this was the best finish by a contestant from wisconsin in 28 yearsin june 2006 morrall placed first runnerup in the miss wisconsin competition where she competed as miss burlington area chocolatefest she had previously placed 3rd runnerup in 2004 1st runnerup in 2003 and 2nd runnerup in 2002 morrall has held other local titles such as miss racine in 2002 miss milwaukee in 2003 and miss southern wisconsin in 2004 despite being eligible to compete in the miss america system for one more year morrall made the decision to compete in the miss wisconsin usa pageant one week before applications for the pageant closedmorrall is a 2001 graduate of burlington high school wisconsin and is a 2008 graduate of alverno college in milwaukee with a bachelor of arts degree in professional communicationcaitlin is currently the traffic reporter in the morning for wtmjtv 4\"\n        ],\n        \"semantic_type\": \"\",\n        \"description\": \"\"\n      }\n    }\n  ]\n}"
            }
          },
          "metadata": {},
          "execution_count": 20
        }
      ]
    },
    {
      "cell_type": "code",
      "source": [
        "og_npl_data.info()"
      ],
      "metadata": {
        "colab": {
          "base_uri": "https://localhost:8080/"
        },
        "id": "4oMka7G9Yi3_",
        "outputId": "29921487-b8a7-49b9-88aa-2a437311f0b5"
      },
      "execution_count": null,
      "outputs": [
        {
          "output_type": "stream",
          "name": "stdout",
          "text": [
            "<class 'pandas.core.frame.DataFrame'>\n",
            "RangeIndex: 42786 entries, 0 to 42785\n",
            "Data columns (total 3 columns):\n",
            " #   Column  Non-Null Count  Dtype \n",
            "---  ------  --------------  ----- \n",
            " 0   URI     42786 non-null  object\n",
            " 1   name    42786 non-null  object\n",
            " 2   text    42786 non-null  object\n",
            "dtypes: object(3)\n",
            "memory usage: 1002.9+ KB\n"
          ]
        }
      ]
    },
    {
      "cell_type": "markdown",
      "source": [
        "## Data Cleaning"
      ],
      "metadata": {
        "id": "T0bZsT9lEDKz"
      }
    },
    {
      "cell_type": "markdown",
      "source": [
        "- To clean all special characters in the 'name' column"
      ],
      "metadata": {
        "id": "4EabCs1TEGSX"
      }
    },
    {
      "cell_type": "code",
      "source": [
        "npl_data_clean_temp1 = og_npl_data.copy()"
      ],
      "metadata": {
        "id": "cKA30-Wb5Khp"
      },
      "execution_count": null,
      "outputs": []
    },
    {
      "cell_type": "code",
      "source": [
        "# Apply the regex replacement to the 'name' column\n",
        "npl_data_clean_temp1['name'] = npl_data_clean_temp1['name'].str.replace(r'\\(.*?\\)', '', regex=True).str.strip()\n",
        "print(npl_data_clean_temp1)"
      ],
      "metadata": {
        "colab": {
          "base_uri": "https://localhost:8080/"
        },
        "id": "A_AS2zlsBpBm",
        "outputId": "ad54a133-f003-48eb-926f-ef8488832b0c"
      },
      "execution_count": null,
      "outputs": [
        {
          "output_type": "stream",
          "name": "stdout",
          "text": [
            "                                                     URI  \\\n",
            "0            <http://dbpedia.org/resource/Digby_Morrell>   \n",
            "1           <http://dbpedia.org/resource/Alfred_J._Lewy>   \n",
            "2            <http://dbpedia.org/resource/Harpdog_Brown>   \n",
            "3      <http://dbpedia.org/resource/Franz_Rottensteiner>   \n",
            "4                   <http://dbpedia.org/resource/G-Enka>   \n",
            "...                                                  ...   \n",
            "42781   <http://dbpedia.org/resource/Motoaki_Takenouchi>   \n",
            "42782  <http://dbpedia.org/resource/Alan_Judge_(footb...   \n",
            "42783         <http://dbpedia.org/resource/Eduardo_Lara>   \n",
            "42784  <http://dbpedia.org/resource/Tatiana_Faberg%C3...   \n",
            "42785       <http://dbpedia.org/resource/Kenneth_Thomas>   \n",
            "\n",
            "                       name                                               text  \n",
            "0             Digby Morrell  digby morrell born 10 october 1979 is a former...  \n",
            "1            Alfred J. Lewy  alfred j lewy aka sandy lewy graduated from un...  \n",
            "2             Harpdog Brown  harpdog brown is a singer and harmonica player...  \n",
            "3       Franz Rottensteiner  franz rottensteiner born in waidmannsfeld lowe...  \n",
            "4                    G-Enka  henry krvits born 30 december 1974 in tallinn ...  \n",
            "...                     ...                                                ...  \n",
            "42781    Motoaki Takenouchi  motoaki takenouchi born july 8 1967 saitama pr...  \n",
            "42782            Alan Judge  alan graham judge born 14 may 1960 is a retire...  \n",
            "42783          Eduardo Lara  eduardo lara lozano born 4 september 1959 in c...  \n",
            "42784  Tatiana Faberg%C3%A9  tatiana faberg is an author and faberg scholar...  \n",
            "42785        Kenneth Thomas  kenneth thomas born february 24 1938 was chief...  \n",
            "\n",
            "[42786 rows x 3 columns]\n"
          ]
        }
      ]
    },
    {
      "cell_type": "code",
      "source": [
        "# define regular expression\n",
        "pattern = r'[^a-zA-Z\\s]'\n",
        "\n",
        "# replace characters that're not matching the expression in the pattern\n",
        "for pop in ['name']:\n",
        "    npl_data_clean_temp1['name'] = npl_data_clean_temp1[pop].str.replace(pattern, '', regex=True).str.strip()\n",
        "#Remove extra spaces that might result from removal (e.g., \"  \")\n",
        "    npl_data_clean_temp1['name'] = npl_data_clean_temp1['name'].str.strip().str.replace(r'\\s+', ' ', regex=True)\n",
        "\n",
        "print(\"\\nDataFrame after cleaning 'name' column:\")\n",
        "print(npl_data_clean_temp1)\n"
      ],
      "metadata": {
        "colab": {
          "base_uri": "https://localhost:8080/"
        },
        "id": "gppcC2ed5Cxr",
        "outputId": "b1cf4a33-07ef-47ff-ca27-f9cce29b5670"
      },
      "execution_count": null,
      "outputs": [
        {
          "output_type": "stream",
          "name": "stdout",
          "text": [
            "\n",
            "DataFrame after cleaning 'name' column:\n",
            "                                                     URI                 name  \\\n",
            "0            <http://dbpedia.org/resource/Digby_Morrell>        Digby Morrell   \n",
            "1           <http://dbpedia.org/resource/Alfred_J._Lewy>        Alfred J Lewy   \n",
            "2            <http://dbpedia.org/resource/Harpdog_Brown>        Harpdog Brown   \n",
            "3      <http://dbpedia.org/resource/Franz_Rottensteiner>  Franz Rottensteiner   \n",
            "4                   <http://dbpedia.org/resource/G-Enka>                GEnka   \n",
            "...                                                  ...                  ...   \n",
            "42781   <http://dbpedia.org/resource/Motoaki_Takenouchi>   Motoaki Takenouchi   \n",
            "42782  <http://dbpedia.org/resource/Alan_Judge_(footb...           Alan Judge   \n",
            "42783         <http://dbpedia.org/resource/Eduardo_Lara>         Eduardo Lara   \n",
            "42784  <http://dbpedia.org/resource/Tatiana_Faberg%C3...     Tatiana FabergCA   \n",
            "42785       <http://dbpedia.org/resource/Kenneth_Thomas>       Kenneth Thomas   \n",
            "\n",
            "                                                    text  \n",
            "0      digby morrell born 10 october 1979 is a former...  \n",
            "1      alfred j lewy aka sandy lewy graduated from un...  \n",
            "2      harpdog brown is a singer and harmonica player...  \n",
            "3      franz rottensteiner born in waidmannsfeld lowe...  \n",
            "4      henry krvits born 30 december 1974 in tallinn ...  \n",
            "...                                                  ...  \n",
            "42781  motoaki takenouchi born july 8 1967 saitama pr...  \n",
            "42782  alan graham judge born 14 may 1960 is a retire...  \n",
            "42783  eduardo lara lozano born 4 september 1959 in c...  \n",
            "42784  tatiana faberg is an author and faberg scholar...  \n",
            "42785  kenneth thomas born february 24 1938 was chief...  \n",
            "\n",
            "[42786 rows x 3 columns]\n"
          ]
        }
      ]
    },
    {
      "cell_type": "code",
      "source": [
        "# Check nulls in the columns\n",
        "npl_data_clean_temp1.isnull().sum()"
      ],
      "metadata": {
        "colab": {
          "base_uri": "https://localhost:8080/",
          "height": 178
        },
        "id": "3NYJsBu542p2",
        "outputId": "dea1b26e-b1f7-4d7a-c5c3-601882c1b599"
      },
      "execution_count": null,
      "outputs": [
        {
          "output_type": "execute_result",
          "data": {
            "text/plain": [
              "URI     0\n",
              "name    0\n",
              "text    0\n",
              "dtype: int64"
            ],
            "text/html": [
              "<div>\n",
              "<style scoped>\n",
              "    .dataframe tbody tr th:only-of-type {\n",
              "        vertical-align: middle;\n",
              "    }\n",
              "\n",
              "    .dataframe tbody tr th {\n",
              "        vertical-align: top;\n",
              "    }\n",
              "\n",
              "    .dataframe thead th {\n",
              "        text-align: right;\n",
              "    }\n",
              "</style>\n",
              "<table border=\"1\" class=\"dataframe\">\n",
              "  <thead>\n",
              "    <tr style=\"text-align: right;\">\n",
              "      <th></th>\n",
              "      <th>0</th>\n",
              "    </tr>\n",
              "  </thead>\n",
              "  <tbody>\n",
              "    <tr>\n",
              "      <th>URI</th>\n",
              "      <td>0</td>\n",
              "    </tr>\n",
              "    <tr>\n",
              "      <th>name</th>\n",
              "      <td>0</td>\n",
              "    </tr>\n",
              "    <tr>\n",
              "      <th>text</th>\n",
              "      <td>0</td>\n",
              "    </tr>\n",
              "  </tbody>\n",
              "</table>\n",
              "</div><br><label><b>dtype:</b> int64</label>"
            ]
          },
          "metadata": {},
          "execution_count": 25
        }
      ]
    },
    {
      "cell_type": "code",
      "source": [
        "npl_data_clean_temp2 = npl_data_clean_temp1['text'].astype(str).str.replace(',', '').replace(\"\\n\",\" \").replace(\"'s\",'').replace(\"'\",'').str.strip()\n",
        "\n",
        "print(npl_data_clean_temp2)"
      ],
      "metadata": {
        "colab": {
          "base_uri": "https://localhost:8080/"
        },
        "id": "DqppqffjGajm",
        "outputId": "86516ff4-619b-4e4d-f3d9-973b0e09d32a"
      },
      "execution_count": null,
      "outputs": [
        {
          "output_type": "stream",
          "name": "stdout",
          "text": [
            "0        digby morrell born 10 october 1979 is a former...\n",
            "1        alfred j lewy aka sandy lewy graduated from un...\n",
            "2        harpdog brown is a singer and harmonica player...\n",
            "3        franz rottensteiner born in waidmannsfeld lowe...\n",
            "4        henry krvits born 30 december 1974 in tallinn ...\n",
            "                               ...                        \n",
            "42781    motoaki takenouchi born july 8 1967 saitama pr...\n",
            "42782    alan graham judge born 14 may 1960 is a retire...\n",
            "42783    eduardo lara lozano born 4 september 1959 in c...\n",
            "42784    tatiana faberg is an author and faberg scholar...\n",
            "42785    kenneth thomas born february 24 1938 was chief...\n",
            "Name: text, Length: 42786, dtype: object\n"
          ]
        }
      ]
    },
    {
      "cell_type": "markdown",
      "source": [
        "## Convert to Text blob"
      ],
      "metadata": {
        "id": "qEW4YrqfElPd"
      }
    },
    {
      "cell_type": "code",
      "source": [
        "%%capture\n",
        "# Install textblob\n",
        "!pip install -U textblob\n"
      ],
      "metadata": {
        "id": "FbJZoJcCdlTo"
      },
      "execution_count": null,
      "outputs": []
    },
    {
      "cell_type": "code",
      "source": [
        "%%capture\n",
        "!python -m textblob.download_corpora\n"
      ],
      "metadata": {
        "id": "e6JILHUTesdZ"
      },
      "execution_count": null,
      "outputs": []
    },
    {
      "cell_type": "code",
      "source": [
        "# Make a textblob\n",
        "npl_text_blob = npl_data_clean_temp2.apply(lambda text: TextBlob(text))"
      ],
      "metadata": {
        "id": "8E95AqlMdvR6",
        "collapsed": true
      },
      "execution_count": null,
      "outputs": []
    },
    {
      "cell_type": "code",
      "source": [
        "npl_text_blob"
      ],
      "metadata": {
        "colab": {
          "base_uri": "https://localhost:8080/",
          "height": 458
        },
        "id": "aOpT-zDNHbKz",
        "outputId": "00367570-e6ed-44d6-a5d9-627309136740"
      },
      "execution_count": null,
      "outputs": [
        {
          "output_type": "execute_result",
          "data": {
            "text/plain": [
              "0        (d, i, g, b, y,  , m, o, r, r, e, l, l,  , b, ...\n",
              "1        (a, l, f, r, e, d,  , j,  , l, e, w, y,  , a, ...\n",
              "2        (h, a, r, p, d, o, g,  , b, r, o, w, n,  , i, ...\n",
              "3        (f, r, a, n, z,  , r, o, t, t, e, n, s, t, e, ...\n",
              "4        (h, e, n, r, y,  , k, r, v, i, t, s,  , b, o, ...\n",
              "                               ...                        \n",
              "42781    (m, o, t, o, a, k, i,  , t, a, k, e, n, o, u, ...\n",
              "42782    (a, l, a, n,  , g, r, a, h, a, m,  , j, u, d, ...\n",
              "42783    (e, d, u, a, r, d, o,  , l, a, r, a,  , l, o, ...\n",
              "42784    (t, a, t, i, a, n, a,  , f, a, b, e, r, g,  , ...\n",
              "42785    (k, e, n, n, e, t, h,  , t, h, o, m, a, s,  , ...\n",
              "Name: text, Length: 42786, dtype: object"
            ],
            "text/html": [
              "<div>\n",
              "<style scoped>\n",
              "    .dataframe tbody tr th:only-of-type {\n",
              "        vertical-align: middle;\n",
              "    }\n",
              "\n",
              "    .dataframe tbody tr th {\n",
              "        vertical-align: top;\n",
              "    }\n",
              "\n",
              "    .dataframe thead th {\n",
              "        text-align: right;\n",
              "    }\n",
              "</style>\n",
              "<table border=\"1\" class=\"dataframe\">\n",
              "  <thead>\n",
              "    <tr style=\"text-align: right;\">\n",
              "      <th></th>\n",
              "      <th>text</th>\n",
              "    </tr>\n",
              "  </thead>\n",
              "  <tbody>\n",
              "    <tr>\n",
              "      <th>0</th>\n",
              "      <td>(d, i, g, b, y,  , m, o, r, r, e, l, l,  , b, ...</td>\n",
              "    </tr>\n",
              "    <tr>\n",
              "      <th>1</th>\n",
              "      <td>(a, l, f, r, e, d,  , j,  , l, e, w, y,  , a, ...</td>\n",
              "    </tr>\n",
              "    <tr>\n",
              "      <th>2</th>\n",
              "      <td>(h, a, r, p, d, o, g,  , b, r, o, w, n,  , i, ...</td>\n",
              "    </tr>\n",
              "    <tr>\n",
              "      <th>3</th>\n",
              "      <td>(f, r, a, n, z,  , r, o, t, t, e, n, s, t, e, ...</td>\n",
              "    </tr>\n",
              "    <tr>\n",
              "      <th>4</th>\n",
              "      <td>(h, e, n, r, y,  , k, r, v, i, t, s,  , b, o, ...</td>\n",
              "    </tr>\n",
              "    <tr>\n",
              "      <th>...</th>\n",
              "      <td>...</td>\n",
              "    </tr>\n",
              "    <tr>\n",
              "      <th>42781</th>\n",
              "      <td>(m, o, t, o, a, k, i,  , t, a, k, e, n, o, u, ...</td>\n",
              "    </tr>\n",
              "    <tr>\n",
              "      <th>42782</th>\n",
              "      <td>(a, l, a, n,  , g, r, a, h, a, m,  , j, u, d, ...</td>\n",
              "    </tr>\n",
              "    <tr>\n",
              "      <th>42783</th>\n",
              "      <td>(e, d, u, a, r, d, o,  , l, a, r, a,  , l, o, ...</td>\n",
              "    </tr>\n",
              "    <tr>\n",
              "      <th>42784</th>\n",
              "      <td>(t, a, t, i, a, n, a,  , f, a, b, e, r, g,  , ...</td>\n",
              "    </tr>\n",
              "    <tr>\n",
              "      <th>42785</th>\n",
              "      <td>(k, e, n, n, e, t, h,  , t, h, o, m, a, s,  , ...</td>\n",
              "    </tr>\n",
              "  </tbody>\n",
              "</table>\n",
              "<p>42786 rows × 1 columns</p>\n",
              "</div><br><label><b>dtype:</b> object</label>"
            ]
          },
          "metadata": {},
          "execution_count": 30
        }
      ]
    },
    {
      "cell_type": "code",
      "source": [
        "npl_text_blob[42782]"
      ],
      "metadata": {
        "colab": {
          "base_uri": "https://localhost:8080/"
        },
        "id": "-FqQilsPHj9S",
        "outputId": "30f1104d-4096-45d0-a8b9-0b28ff6dbfea"
      },
      "execution_count": null,
      "outputs": [
        {
          "output_type": "execute_result",
          "data": {
            "text/plain": [
              "TextBlob(\"alan graham judge born 14 may 1960 is a retired professional footballer who is the seventh oldest player to play in the football league he played as a goalkeeperduring his career he played for various clubs at all tiers of the league he was part of the oxford united team which won the milk cup in 1986 he also briefly served as a backup goalkeeper for chelsea in the european cup winners cupoften referred to as the judge after retiring from the professional game alan worked as a driving instructor and goalkeeping coach at several clubs including swindon and oxford occasionally acting as emergency goalkeeping cover in 2001 he organised a rerun of the 1986 milk cup final against qpr for charity on 18 march 2003 at the age of 42 he played his first football league match since leaving hereford united in 1994 he helped oxford to a 11 draw with cambridge united making a vital save in stoppage time during the 200304 season he also made several appearances for didcot town he made a second appearance for oxford on 6 november 2004 at the age of 44 years and 176 days this made him the seventh oldest footballer ever to have appeared in the football league or premier league 1judge now plays for banbury united and has made 17 league appearances so far this season he is also a goalkeeping coach at oxford city\")"
            ]
          },
          "metadata": {},
          "execution_count": 31
        }
      ]
    },
    {
      "cell_type": "code",
      "source": [
        "# Singularize the word from TextBlob\n",
        "# Singularize each word in the text\n",
        "# Join it together into a single string\n",
        "npl_blob_singular = npl_text_blob[:].apply(lambda x: ' '.join([y.singularize() for y in x.words]))\n",
        "npl_blob_singular"
      ],
      "metadata": {
        "colab": {
          "base_uri": "https://localhost:8080/",
          "height": 458
        },
        "id": "gwSz2ecmFs86",
        "outputId": "5837560d-b747-460b-a071-57e91dafe9cd"
      },
      "execution_count": null,
      "outputs": [
        {
          "output_type": "execute_result",
          "data": {
            "text/plain": [
              "0        digby morrell born 10 october 1979 is a former...\n",
              "1        alfred j lewy aka sandy lewy graduated from un...\n",
              "2        harpdog brown is a singer and harmonica player...\n",
              "3        franz rottensteiner born in waidmannsfeld lowe...\n",
              "4        henry krvit born 30 december 1974 in tallinn b...\n",
              "                               ...                        \n",
              "42781    motoaki takenouchi born july 8 1967 saitama pr...\n",
              "42782    alan graham judge born 14 may 1960 is a retire...\n",
              "42783    eduardo lara lozano born 4 september 1959 in c...\n",
              "42784    tatiana faberg is an author and faberg scholar...\n",
              "42785    kenneth thoma born february 24 1938 wa chief f...\n",
              "Name: text, Length: 42786, dtype: object"
            ],
            "text/html": [
              "<div>\n",
              "<style scoped>\n",
              "    .dataframe tbody tr th:only-of-type {\n",
              "        vertical-align: middle;\n",
              "    }\n",
              "\n",
              "    .dataframe tbody tr th {\n",
              "        vertical-align: top;\n",
              "    }\n",
              "\n",
              "    .dataframe thead th {\n",
              "        text-align: right;\n",
              "    }\n",
              "</style>\n",
              "<table border=\"1\" class=\"dataframe\">\n",
              "  <thead>\n",
              "    <tr style=\"text-align: right;\">\n",
              "      <th></th>\n",
              "      <th>text</th>\n",
              "    </tr>\n",
              "  </thead>\n",
              "  <tbody>\n",
              "    <tr>\n",
              "      <th>0</th>\n",
              "      <td>digby morrell born 10 october 1979 is a former...</td>\n",
              "    </tr>\n",
              "    <tr>\n",
              "      <th>1</th>\n",
              "      <td>alfred j lewy aka sandy lewy graduated from un...</td>\n",
              "    </tr>\n",
              "    <tr>\n",
              "      <th>2</th>\n",
              "      <td>harpdog brown is a singer and harmonica player...</td>\n",
              "    </tr>\n",
              "    <tr>\n",
              "      <th>3</th>\n",
              "      <td>franz rottensteiner born in waidmannsfeld lowe...</td>\n",
              "    </tr>\n",
              "    <tr>\n",
              "      <th>4</th>\n",
              "      <td>henry krvit born 30 december 1974 in tallinn b...</td>\n",
              "    </tr>\n",
              "    <tr>\n",
              "      <th>...</th>\n",
              "      <td>...</td>\n",
              "    </tr>\n",
              "    <tr>\n",
              "      <th>42781</th>\n",
              "      <td>motoaki takenouchi born july 8 1967 saitama pr...</td>\n",
              "    </tr>\n",
              "    <tr>\n",
              "      <th>42782</th>\n",
              "      <td>alan graham judge born 14 may 1960 is a retire...</td>\n",
              "    </tr>\n",
              "    <tr>\n",
              "      <th>42783</th>\n",
              "      <td>eduardo lara lozano born 4 september 1959 in c...</td>\n",
              "    </tr>\n",
              "    <tr>\n",
              "      <th>42784</th>\n",
              "      <td>tatiana faberg is an author and faberg scholar...</td>\n",
              "    </tr>\n",
              "    <tr>\n",
              "      <th>42785</th>\n",
              "      <td>kenneth thoma born february 24 1938 wa chief f...</td>\n",
              "    </tr>\n",
              "  </tbody>\n",
              "</table>\n",
              "<p>42786 rows × 1 columns</p>\n",
              "</div><br><label><b>dtype:</b> object</label>"
            ]
          },
          "metadata": {},
          "execution_count": 32
        }
      ]
    },
    {
      "cell_type": "markdown",
      "source": [
        "## BoW using CountVectorizer"
      ],
      "metadata": {
        "id": "Iv4nhg-d7tMO"
      }
    },
    {
      "cell_type": "markdown",
      "source": [
        "- Pertorm the count transformation"
      ],
      "metadata": {
        "id": "HOIg4_ku96n0"
      }
    },
    {
      "cell_type": "code",
      "source": [
        "npl_vectorizer = CountVectorizer(stop_words='english')\n",
        "npl_bow_vec = npl_vectorizer.fit_transform(npl_blob_singular)\n"
      ],
      "metadata": {
        "id": "3EHumrRw7sf1"
      },
      "execution_count": null,
      "outputs": []
    },
    {
      "cell_type": "code",
      "source": [
        "type(npl_bow_vec), npl_bow_vec.shape"
      ],
      "metadata": {
        "colab": {
          "base_uri": "https://localhost:8080/"
        },
        "id": "FPk2M8_07sWj",
        "outputId": "e00c2282-9c3b-457d-fd42-d5e8e0d2b54b"
      },
      "execution_count": null,
      "outputs": [
        {
          "output_type": "execute_result",
          "data": {
            "text/plain": [
              "(scipy.sparse._csr.csr_matrix, (42786, 404869))"
            ]
          },
          "metadata": {},
          "execution_count": 34
        }
      ]
    },
    {
      "cell_type": "code",
      "source": [
        "#npl_bow_vec.toarray()"
      ],
      "metadata": {
        "id": "h8IhxXUxZC3v"
      },
      "execution_count": null,
      "outputs": []
    },
    {
      "cell_type": "code",
      "source": [
        "npl_vectorizer.get_feature_names_out()"
      ],
      "metadata": {
        "id": "s6SAKlnbaUUV",
        "colab": {
          "base_uri": "https://localhost:8080/"
        },
        "outputId": "7d0222a2-a2cd-4dea-acf0-abc84fa8eca3"
      },
      "execution_count": null,
      "outputs": [
        {
          "output_type": "execute_result",
          "data": {
            "text/plain": [
              "array(['00', '000', '0000', ..., 'zzebra', 'zzran', 'zzt'], dtype=object)"
            ]
          },
          "metadata": {},
          "execution_count": 36
        }
      ]
    },
    {
      "cell_type": "code",
      "source": [
        "#npl_vec_df = pd.DataFrame(npl_bow_vec.toarray(), columns = npl_vectorizer.get_feature_names_out() )"
      ],
      "metadata": {
        "id": "gbrAhxG_aenL"
      },
      "execution_count": null,
      "outputs": []
    },
    {
      "cell_type": "markdown",
      "source": [
        "## TF-IDF using TfidfTransformer\n",
        "- Perform the TF-IDF transformation"
      ],
      "metadata": {
        "id": "vzs1j_Q7ZRQC"
      }
    },
    {
      "cell_type": "code",
      "source": [
        "# Perform the TF-IDF transformation\n",
        "tf_idf_vec = TfidfTransformer()\n",
        "npl_tf_idf = tf_idf_vec.fit_transform(npl_bow_vec)\n",
        "\n",
        "#npl_tf_idf.toarray()\n"
      ],
      "metadata": {
        "id": "fVJsZeIxZknt"
      },
      "execution_count": null,
      "outputs": []
    },
    {
      "cell_type": "markdown",
      "source": [
        "## K Nearest Neighbors"
      ],
      "metadata": {
        "id": "jQszjvSgbSMA"
      }
    },
    {
      "cell_type": "markdown",
      "source": [
        "- To find the nearest neighbor"
      ],
      "metadata": {
        "id": "jcGPuICNb622"
      }
    },
    {
      "cell_type": "code",
      "source": [
        "nn = NearestNeighbors().fit(npl_tf_idf)"
      ],
      "metadata": {
        "id": "R8XUDSRkb-cc"
      },
      "execution_count": null,
      "outputs": []
    },
    {
      "cell_type": "markdown",
      "source": [
        "- To create a reference matrix used to get the nearest neighbors distance"
      ],
      "metadata": {
        "id": "eEDWNkfOpc7o"
      }
    },
    {
      "cell_type": "code",
      "source": [
        "# Create a reference matrix from Tf-IDF matrix\n",
        "# Specify the target person as entried at the index no. 42782\n",
        "npl_ref_matrix = npl_tf_idf[42782]\n"
      ],
      "metadata": {
        "id": "F1H3J6PhpHiC"
      },
      "execution_count": null,
      "outputs": []
    },
    {
      "cell_type": "code",
      "source": [
        "npl_ref_matrix.shape"
      ],
      "metadata": {
        "colab": {
          "base_uri": "https://localhost:8080/"
        },
        "id": "1BXrn5C75w2K",
        "outputId": "183d8694-1dd2-4466-c11d-e29511a49599"
      },
      "execution_count": null,
      "outputs": [
        {
          "output_type": "execute_result",
          "data": {
            "text/plain": [
              "(1, 404869)"
            ]
          },
          "metadata": {},
          "execution_count": 41
        }
      ]
    },
    {
      "cell_type": "markdown",
      "source": [
        "- To get the nearest neighbors distances"
      ],
      "metadata": {
        "id": "BVMMmFHecOmX"
      }
    },
    {
      "cell_type": "code",
      "source": [
        "# Get nearest neighbors distances of the target person and the closest 10 people\n",
        "distances, indices = nn.kneighbors(\n",
        "  X = npl_ref_matrix,\n",
        "  n_neighbors = 11,\n",
        ")\n"
      ],
      "metadata": {
        "id": "Hgg_3Rs0pAx3"
      },
      "execution_count": null,
      "outputs": []
    },
    {
      "cell_type": "code",
      "source": [
        "# calculated distance of the target person\n",
        "distances[0]"
      ],
      "metadata": {
        "colab": {
          "base_uri": "https://localhost:8080/"
        },
        "id": "bk-RwCX6OIHD",
        "outputId": "d0c07451-fab3-42a4-bb82-db36c75c9a13"
      },
      "execution_count": null,
      "outputs": [
        {
          "output_type": "execute_result",
          "data": {
            "text/plain": [
              "array([0.        , 1.21001444, 1.21221996, 1.21439732, 1.21827016,\n",
              "       1.2195035 , 1.22471136, 1.2252636 , 1.22746783, 1.22767495,\n",
              "       1.23418686])"
            ]
          },
          "metadata": {},
          "execution_count": 43
        }
      ]
    },
    {
      "cell_type": "code",
      "source": [
        "indices[0]"
      ],
      "metadata": {
        "colab": {
          "base_uri": "https://localhost:8080/"
        },
        "id": "cnGesny9OQFa",
        "outputId": "37667a28-c560-47b9-cd6d-05a0736a29bd"
      },
      "execution_count": null,
      "outputs": [
        {
          "output_type": "execute_result",
          "data": {
            "text/plain": [
              "array([42782, 34838, 23099, 24116, 25507,  3785, 19611,  4113, 31709,\n",
              "        4300, 21696])"
            ]
          },
          "metadata": {},
          "execution_count": 44
        }
      ]
    },
    {
      "cell_type": "code",
      "source": [
        "# recall the information of the target person and the closest 10 people from the original dataframe\n",
        "og_npl_data.iloc[indices[0]]"
      ],
      "metadata": {
        "colab": {
          "base_uri": "https://localhost:8080/",
          "height": 585
        },
        "id": "Kino2tFiOWZe",
        "outputId": "14cdbd3e-ca37-4437-c696-248447682b4d",
        "collapsed": true
      },
      "execution_count": null,
      "outputs": [
        {
          "output_type": "execute_result",
          "data": {
            "text/plain": [
              "                                                     URI  \\\n",
              "42782  <http://dbpedia.org/resource/Alan_Judge_(footb...   \n",
              "34838             <http://dbpedia.org/resource/Len_Bond>   \n",
              "23099  <http://dbpedia.org/resource/Matt_Green_(footb...   \n",
              "24116  <http://dbpedia.org/resource/Tony_Smith_(footb...   \n",
              "25507  <http://dbpedia.org/resource/Peter_Rhoades-Brown>   \n",
              "3785   <http://dbpedia.org/resource/Steve_Arnold_(foo...   \n",
              "19611  <http://dbpedia.org/resource/George_Harris_(fo...   \n",
              "4113           <http://dbpedia.org/resource/Keith_Waugh>   \n",
              "31709          <http://dbpedia.org/resource/Nick_Colgan>   \n",
              "4300          <http://dbpedia.org/resource/Peter_Hucker>   \n",
              "21696          <http://dbpedia.org/resource/Gary_Hooper>   \n",
              "\n",
              "                                        name  \\\n",
              "42782     Alan Judge (footballer, born 1960)   \n",
              "34838                               Len Bond   \n",
              "23099                Matt Green (footballer)   \n",
              "24116     Tony Smith (footballer, born 1957)   \n",
              "25507                    Peter Rhoades-Brown   \n",
              "3785    Steve Arnold (footballer, born 1951)   \n",
              "19611  George Harris (footballer, born 1940)   \n",
              "4113                             Keith Waugh   \n",
              "31709                            Nick Colgan   \n",
              "4300                            Peter Hucker   \n",
              "21696                            Gary Hooper   \n",
              "\n",
              "                                                    text  \n",
              "42782  alan graham judge born 14 may 1960 is a retire...  \n",
              "34838  len bond born 2 december 1954 is an english fo...  \n",
              "23099  matthew james matt green born 2 january 1987 i...  \n",
              "24116  anthony tony smith born 20 february 1957 is a ...  \n",
              "25507  peter rhoadesbrown born 2 january 1962 in hamp...  \n",
              "3785   stephen frank arnold born 5 january 1951 is an...  \n",
              "19611  george harris born 10 june 1940 is an englishb...  \n",
              "4113   keith waugh born 27 october 1956 is an english...  \n",
              "31709  nicholas vincent nick colgan born 19 september...  \n",
              "4300   peter hucker born 28 october 1959 is an englis...  \n",
              "21696  gary hooper born 26 january 1988 is an english...  "
            ],
            "text/html": [
              "\n",
              "  <div id=\"df-92e21963-bf88-4b9a-a80b-178c526cd002\" class=\"colab-df-container\">\n",
              "    <div>\n",
              "<style scoped>\n",
              "    .dataframe tbody tr th:only-of-type {\n",
              "        vertical-align: middle;\n",
              "    }\n",
              "\n",
              "    .dataframe tbody tr th {\n",
              "        vertical-align: top;\n",
              "    }\n",
              "\n",
              "    .dataframe thead th {\n",
              "        text-align: right;\n",
              "    }\n",
              "</style>\n",
              "<table border=\"1\" class=\"dataframe\">\n",
              "  <thead>\n",
              "    <tr style=\"text-align: right;\">\n",
              "      <th></th>\n",
              "      <th>URI</th>\n",
              "      <th>name</th>\n",
              "      <th>text</th>\n",
              "    </tr>\n",
              "  </thead>\n",
              "  <tbody>\n",
              "    <tr>\n",
              "      <th>42782</th>\n",
              "      <td>&lt;http://dbpedia.org/resource/Alan_Judge_(footb...</td>\n",
              "      <td>Alan Judge (footballer, born 1960)</td>\n",
              "      <td>alan graham judge born 14 may 1960 is a retire...</td>\n",
              "    </tr>\n",
              "    <tr>\n",
              "      <th>34838</th>\n",
              "      <td>&lt;http://dbpedia.org/resource/Len_Bond&gt;</td>\n",
              "      <td>Len Bond</td>\n",
              "      <td>len bond born 2 december 1954 is an english fo...</td>\n",
              "    </tr>\n",
              "    <tr>\n",
              "      <th>23099</th>\n",
              "      <td>&lt;http://dbpedia.org/resource/Matt_Green_(footb...</td>\n",
              "      <td>Matt Green (footballer)</td>\n",
              "      <td>matthew james matt green born 2 january 1987 i...</td>\n",
              "    </tr>\n",
              "    <tr>\n",
              "      <th>24116</th>\n",
              "      <td>&lt;http://dbpedia.org/resource/Tony_Smith_(footb...</td>\n",
              "      <td>Tony Smith (footballer, born 1957)</td>\n",
              "      <td>anthony tony smith born 20 february 1957 is a ...</td>\n",
              "    </tr>\n",
              "    <tr>\n",
              "      <th>25507</th>\n",
              "      <td>&lt;http://dbpedia.org/resource/Peter_Rhoades-Brown&gt;</td>\n",
              "      <td>Peter Rhoades-Brown</td>\n",
              "      <td>peter rhoadesbrown born 2 january 1962 in hamp...</td>\n",
              "    </tr>\n",
              "    <tr>\n",
              "      <th>3785</th>\n",
              "      <td>&lt;http://dbpedia.org/resource/Steve_Arnold_(foo...</td>\n",
              "      <td>Steve Arnold (footballer, born 1951)</td>\n",
              "      <td>stephen frank arnold born 5 january 1951 is an...</td>\n",
              "    </tr>\n",
              "    <tr>\n",
              "      <th>19611</th>\n",
              "      <td>&lt;http://dbpedia.org/resource/George_Harris_(fo...</td>\n",
              "      <td>George Harris (footballer, born 1940)</td>\n",
              "      <td>george harris born 10 june 1940 is an englishb...</td>\n",
              "    </tr>\n",
              "    <tr>\n",
              "      <th>4113</th>\n",
              "      <td>&lt;http://dbpedia.org/resource/Keith_Waugh&gt;</td>\n",
              "      <td>Keith Waugh</td>\n",
              "      <td>keith waugh born 27 october 1956 is an english...</td>\n",
              "    </tr>\n",
              "    <tr>\n",
              "      <th>31709</th>\n",
              "      <td>&lt;http://dbpedia.org/resource/Nick_Colgan&gt;</td>\n",
              "      <td>Nick Colgan</td>\n",
              "      <td>nicholas vincent nick colgan born 19 september...</td>\n",
              "    </tr>\n",
              "    <tr>\n",
              "      <th>4300</th>\n",
              "      <td>&lt;http://dbpedia.org/resource/Peter_Hucker&gt;</td>\n",
              "      <td>Peter Hucker</td>\n",
              "      <td>peter hucker born 28 october 1959 is an englis...</td>\n",
              "    </tr>\n",
              "    <tr>\n",
              "      <th>21696</th>\n",
              "      <td>&lt;http://dbpedia.org/resource/Gary_Hooper&gt;</td>\n",
              "      <td>Gary Hooper</td>\n",
              "      <td>gary hooper born 26 january 1988 is an english...</td>\n",
              "    </tr>\n",
              "  </tbody>\n",
              "</table>\n",
              "</div>\n",
              "    <div class=\"colab-df-buttons\">\n",
              "\n",
              "  <div class=\"colab-df-container\">\n",
              "    <button class=\"colab-df-convert\" onclick=\"convertToInteractive('df-92e21963-bf88-4b9a-a80b-178c526cd002')\"\n",
              "            title=\"Convert this dataframe to an interactive table.\"\n",
              "            style=\"display:none;\">\n",
              "\n",
              "  <svg xmlns=\"http://www.w3.org/2000/svg\" height=\"24px\" viewBox=\"0 -960 960 960\">\n",
              "    <path d=\"M120-120v-720h720v720H120Zm60-500h600v-160H180v160Zm220 220h160v-160H400v160Zm0 220h160v-160H400v160ZM180-400h160v-160H180v160Zm440 0h160v-160H620v160ZM180-180h160v-160H180v160Zm440 0h160v-160H620v160Z\"/>\n",
              "  </svg>\n",
              "    </button>\n",
              "\n",
              "  <style>\n",
              "    .colab-df-container {\n",
              "      display:flex;\n",
              "      gap: 12px;\n",
              "    }\n",
              "\n",
              "    .colab-df-convert {\n",
              "      background-color: #E8F0FE;\n",
              "      border: none;\n",
              "      border-radius: 50%;\n",
              "      cursor: pointer;\n",
              "      display: none;\n",
              "      fill: #1967D2;\n",
              "      height: 32px;\n",
              "      padding: 0 0 0 0;\n",
              "      width: 32px;\n",
              "    }\n",
              "\n",
              "    .colab-df-convert:hover {\n",
              "      background-color: #E2EBFA;\n",
              "      box-shadow: 0px 1px 2px rgba(60, 64, 67, 0.3), 0px 1px 3px 1px rgba(60, 64, 67, 0.15);\n",
              "      fill: #174EA6;\n",
              "    }\n",
              "\n",
              "    .colab-df-buttons div {\n",
              "      margin-bottom: 4px;\n",
              "    }\n",
              "\n",
              "    [theme=dark] .colab-df-convert {\n",
              "      background-color: #3B4455;\n",
              "      fill: #D2E3FC;\n",
              "    }\n",
              "\n",
              "    [theme=dark] .colab-df-convert:hover {\n",
              "      background-color: #434B5C;\n",
              "      box-shadow: 0px 1px 3px 1px rgba(0, 0, 0, 0.15);\n",
              "      filter: drop-shadow(0px 1px 2px rgba(0, 0, 0, 0.3));\n",
              "      fill: #FFFFFF;\n",
              "    }\n",
              "  </style>\n",
              "\n",
              "    <script>\n",
              "      const buttonEl =\n",
              "        document.querySelector('#df-92e21963-bf88-4b9a-a80b-178c526cd002 button.colab-df-convert');\n",
              "      buttonEl.style.display =\n",
              "        google.colab.kernel.accessAllowed ? 'block' : 'none';\n",
              "\n",
              "      async function convertToInteractive(key) {\n",
              "        const element = document.querySelector('#df-92e21963-bf88-4b9a-a80b-178c526cd002');\n",
              "        const dataTable =\n",
              "          await google.colab.kernel.invokeFunction('convertToInteractive',\n",
              "                                                    [key], {});\n",
              "        if (!dataTable) return;\n",
              "\n",
              "        const docLinkHtml = 'Like what you see? Visit the ' +\n",
              "          '<a target=\"_blank\" href=https://colab.research.google.com/notebooks/data_table.ipynb>data table notebook</a>'\n",
              "          + ' to learn more about interactive tables.';\n",
              "        element.innerHTML = '';\n",
              "        dataTable['output_type'] = 'display_data';\n",
              "        await google.colab.output.renderOutput(dataTable, element);\n",
              "        const docLink = document.createElement('div');\n",
              "        docLink.innerHTML = docLinkHtml;\n",
              "        element.appendChild(docLink);\n",
              "      }\n",
              "    </script>\n",
              "  </div>\n",
              "\n",
              "\n",
              "    <div id=\"df-dced1e6d-8b14-4d60-99a1-c7c12c021e23\">\n",
              "      <button class=\"colab-df-quickchart\" onclick=\"quickchart('df-dced1e6d-8b14-4d60-99a1-c7c12c021e23')\"\n",
              "                title=\"Suggest charts\"\n",
              "                style=\"display:none;\">\n",
              "\n",
              "<svg xmlns=\"http://www.w3.org/2000/svg\" height=\"24px\"viewBox=\"0 0 24 24\"\n",
              "     width=\"24px\">\n",
              "    <g>\n",
              "        <path d=\"M19 3H5c-1.1 0-2 .9-2 2v14c0 1.1.9 2 2 2h14c1.1 0 2-.9 2-2V5c0-1.1-.9-2-2-2zM9 17H7v-7h2v7zm4 0h-2V7h2v10zm4 0h-2v-4h2v4z\"/>\n",
              "    </g>\n",
              "</svg>\n",
              "      </button>\n",
              "\n",
              "<style>\n",
              "  .colab-df-quickchart {\n",
              "      --bg-color: #E8F0FE;\n",
              "      --fill-color: #1967D2;\n",
              "      --hover-bg-color: #E2EBFA;\n",
              "      --hover-fill-color: #174EA6;\n",
              "      --disabled-fill-color: #AAA;\n",
              "      --disabled-bg-color: #DDD;\n",
              "  }\n",
              "\n",
              "  [theme=dark] .colab-df-quickchart {\n",
              "      --bg-color: #3B4455;\n",
              "      --fill-color: #D2E3FC;\n",
              "      --hover-bg-color: #434B5C;\n",
              "      --hover-fill-color: #FFFFFF;\n",
              "      --disabled-bg-color: #3B4455;\n",
              "      --disabled-fill-color: #666;\n",
              "  }\n",
              "\n",
              "  .colab-df-quickchart {\n",
              "    background-color: var(--bg-color);\n",
              "    border: none;\n",
              "    border-radius: 50%;\n",
              "    cursor: pointer;\n",
              "    display: none;\n",
              "    fill: var(--fill-color);\n",
              "    height: 32px;\n",
              "    padding: 0;\n",
              "    width: 32px;\n",
              "  }\n",
              "\n",
              "  .colab-df-quickchart:hover {\n",
              "    background-color: var(--hover-bg-color);\n",
              "    box-shadow: 0 1px 2px rgba(60, 64, 67, 0.3), 0 1px 3px 1px rgba(60, 64, 67, 0.15);\n",
              "    fill: var(--button-hover-fill-color);\n",
              "  }\n",
              "\n",
              "  .colab-df-quickchart-complete:disabled,\n",
              "  .colab-df-quickchart-complete:disabled:hover {\n",
              "    background-color: var(--disabled-bg-color);\n",
              "    fill: var(--disabled-fill-color);\n",
              "    box-shadow: none;\n",
              "  }\n",
              "\n",
              "  .colab-df-spinner {\n",
              "    border: 2px solid var(--fill-color);\n",
              "    border-color: transparent;\n",
              "    border-bottom-color: var(--fill-color);\n",
              "    animation:\n",
              "      spin 1s steps(1) infinite;\n",
              "  }\n",
              "\n",
              "  @keyframes spin {\n",
              "    0% {\n",
              "      border-color: transparent;\n",
              "      border-bottom-color: var(--fill-color);\n",
              "      border-left-color: var(--fill-color);\n",
              "    }\n",
              "    20% {\n",
              "      border-color: transparent;\n",
              "      border-left-color: var(--fill-color);\n",
              "      border-top-color: var(--fill-color);\n",
              "    }\n",
              "    30% {\n",
              "      border-color: transparent;\n",
              "      border-left-color: var(--fill-color);\n",
              "      border-top-color: var(--fill-color);\n",
              "      border-right-color: var(--fill-color);\n",
              "    }\n",
              "    40% {\n",
              "      border-color: transparent;\n",
              "      border-right-color: var(--fill-color);\n",
              "      border-top-color: var(--fill-color);\n",
              "    }\n",
              "    60% {\n",
              "      border-color: transparent;\n",
              "      border-right-color: var(--fill-color);\n",
              "    }\n",
              "    80% {\n",
              "      border-color: transparent;\n",
              "      border-right-color: var(--fill-color);\n",
              "      border-bottom-color: var(--fill-color);\n",
              "    }\n",
              "    90% {\n",
              "      border-color: transparent;\n",
              "      border-bottom-color: var(--fill-color);\n",
              "    }\n",
              "  }\n",
              "</style>\n",
              "\n",
              "      <script>\n",
              "        async function quickchart(key) {\n",
              "          const quickchartButtonEl =\n",
              "            document.querySelector('#' + key + ' button');\n",
              "          quickchartButtonEl.disabled = true;  // To prevent multiple clicks.\n",
              "          quickchartButtonEl.classList.add('colab-df-spinner');\n",
              "          try {\n",
              "            const charts = await google.colab.kernel.invokeFunction(\n",
              "                'suggestCharts', [key], {});\n",
              "          } catch (error) {\n",
              "            console.error('Error during call to suggestCharts:', error);\n",
              "          }\n",
              "          quickchartButtonEl.classList.remove('colab-df-spinner');\n",
              "          quickchartButtonEl.classList.add('colab-df-quickchart-complete');\n",
              "        }\n",
              "        (() => {\n",
              "          let quickchartButtonEl =\n",
              "            document.querySelector('#df-dced1e6d-8b14-4d60-99a1-c7c12c021e23 button');\n",
              "          quickchartButtonEl.style.display =\n",
              "            google.colab.kernel.accessAllowed ? 'block' : 'none';\n",
              "        })();\n",
              "      </script>\n",
              "    </div>\n",
              "\n",
              "    </div>\n",
              "  </div>\n"
            ],
            "application/vnd.google.colaboratory.intrinsic+json": {
              "type": "dataframe",
              "summary": "{\n  \"name\": \"og_npl_data\",\n  \"rows\": 11,\n  \"fields\": [\n    {\n      \"column\": \"URI\",\n      \"properties\": {\n        \"dtype\": \"string\",\n        \"num_unique_values\": 11,\n        \"samples\": [\n          \"<http://dbpedia.org/resource/Steve_Arnold_(footballer,_born_1951)>\",\n          \"<http://dbpedia.org/resource/Alan_Judge_(footballer,_born_1960)>\",\n          \"<http://dbpedia.org/resource/Peter_Hucker>\"\n        ],\n        \"semantic_type\": \"\",\n        \"description\": \"\"\n      }\n    },\n    {\n      \"column\": \"name\",\n      \"properties\": {\n        \"dtype\": \"string\",\n        \"num_unique_values\": 11,\n        \"samples\": [\n          \"Steve Arnold (footballer, born 1951)\",\n          \"Alan Judge (footballer, born 1960)\",\n          \"Peter Hucker\"\n        ],\n        \"semantic_type\": \"\",\n        \"description\": \"\"\n      }\n    },\n    {\n      \"column\": \"text\",\n      \"properties\": {\n        \"dtype\": \"string\",\n        \"num_unique_values\": 11,\n        \"samples\": [\n          \"stephen frank arnold born 5 january 1951 is an english former professional footballer who played in the football league as a midfielder for crewe alexandra liverpool southport torquay united and rochdalearnold was born in willesden london he began his football career as an apprentice at crewe alexandra turning professional in january 1969 and making his league debut the same season his talent was soon spotted by bigger teams and in september 1970 after only 15 league appearances he became a forerunner to the many players to leave crewe for the top flight when he joined liverpool for a fee of 12000 he failed to establish himself at anfield making only two league appearances his only start was in the penultimate league match of the season away to manchester city when bill shankly made ten changes to protect his firstchoice players before the fairs cup semifinal against leeds united just two days later incurring a heavy fine from the football leaguein january 1972 he was sent on loan to southport scoring 3 times in 16 league appearances and in september of the following season he was loaned to torquay united making his debut in the goalless draw away to bury on 2 september he played twice more for the gulls scoring in his final appearance a 21 defeat away to league newcomers hereford united on 30 september in june 1973 he left anfield moving to rochdale where he was to end his league career after only one season of regular firstteam football making 40 league appearances and scoring oncehe went on to play nonleague football for weymouth scoring 14 goals from 57 appearances and on loan to dorchester town 13 appearances before injury forced his retirement\",\n          \"alan graham judge born 14 may 1960 is a retired professional footballer who is the seventh oldest player to play in the football league he played as a goalkeeperduring his career he played for various clubs at all tiers of the league he was part of the oxford united team which won the milk cup in 1986 he also briefly served as a backup goalkeeper for chelsea in the european cup winners cupoften referred to as the judge after retiring from the professional game alan worked as a driving instructor and goalkeeping coach at several clubs including swindon and oxford occasionally acting as emergency goalkeeping cover in 2001 he organised a rerun of the 1986 milk cup final against qpr for charity on 18 march 2003 at the age of 42 he played his first football league match since leaving hereford united in 1994 he helped oxford to a 11 draw with cambridge united making a vital save in stoppage time during the 200304 season he also made several appearances for didcot town he made a second appearance for oxford on 6 november 2004 at the age of 44 years and 176 days this made him the seventh oldest footballer ever to have appeared in the football league or premier league 1judge now plays for banbury united and has made 17 league appearances so far this season he is also a goalkeeping coach at oxford city\",\n          \"peter hucker born 28 october 1959 is an english former footballer who played as a goalkeeper in the football league during the 1980s and early 1990sborn in hampstead he joined queens park rangers as a schoolboy in december 1974 signed apprentice forms in july 1976 and turned professional in july 1977 making his league debut against shrewsbury town in 1981 hucker had been at the club since he was a junior but had played very few gameshe had seen a succession of managers bring their own preferred goalkeepers in while he bided his time in the reserveshe got his big chance in a fa cup third round tie at loftus road in 1982 against middlesbrough the firstchoice keeper at the time john burridge was injured but was also not very keen on playing on the synthetic playing surface that loftus road had at the time hucker played very well in the cup tie and retained his place for the remainder of the season including in the 1982 fa cup final against tottenham hotspur in which he was voted the man of the match for his performance in the first game in which he played extremely well despite being injuredhucker was to play a key role the following season as well as qpr stormed to the second division title and then the following year as rangers finished top london club in the 198384 season qualifying for the uefa cup like many of the talented players of that team his form suffered as terry venables left the club in 1984 to be replaced by alan mullery he lost his place during the 198586 season to paul barron and he transferred to oxford united in february 1987 hucker played 160 league games for qprin a threeyear spell at oxford hucker played 66 league matches but towards the end of his time there he went on several loan spells first to west bromwich albion in 198788 making seven appearances and then twice to manchester united without making a single appearancehe finished his career in nonleague football and went on to establish a successful goalkeeping coaching school after retiring from the game\"\n        ],\n        \"semantic_type\": \"\",\n        \"description\": \"\"\n      }\n    }\n  ]\n}"
            }
          },
          "metadata": {},
          "execution_count": 45
        }
      ]
    },
    {
      "cell_type": "code",
      "source": [
        "# To print the calculated distance values along with the information of each index from the 'text' column\n",
        "for a,b in zip(distances[0], np.array(npl_blob_singular)[indices][0]):\n",
        "  print(f\"{a:.4f}: {b}\")"
      ],
      "metadata": {
        "id": "qy6q5Fg6qQJd",
        "colab": {
          "base_uri": "https://localhost:8080/"
        },
        "outputId": "2250b99a-46a3-40df-acf0-e606ce7c4d15"
      },
      "execution_count": null,
      "outputs": [
        {
          "output_type": "stream",
          "name": "stdout",
          "text": [
            "0.0000: alan graham judge born 14 may 1960 is a retired professional footballer who is the seventh oldest player to play in the football league he played a a goalkeeperduring hi career he played for variou club at all tier of the league he wa part of the oxford united team which won the milk cup in 1986 he also briefly served a a backup goalkeeper for chelsea in the european cup winner cupoften referred to a the judge after retiring from the professional game alan worked a a driving instructor and goalkeeping coach at several club including swindon and oxford occasionally acting a emergency goalkeeping cover in 2001 he organised a rerun of the 1986 milk cup final against qpr for charity on 18 march 2003 at the age of 42 he played hi first football league match since leaving hereford united in 1994 he helped oxford to a 11 draw with cambridge united making a vital save in stoppage time during the 200304 season he also made several appearance for didcot town he made a second appearance for oxford on 6 november 2004 at the age of 44 year and 176 day thi made him the seventh oldest footballer ever to have appeared in the football league or premier league 1judge now play for banbury united and ha made 17 league appearance so far thi season he is also a goalkeeping coach at oxford city\n",
            "1.2100: len bond born 2 december 1954 is an english former professional football goalkeeper he made more than 300 appearance in the football league including 168 for exeter city and 122 for brentfordbond wa born in ilminster somerset he began hi career a an apprentice with bristol city turning professional in september 1971 although he had made hi league debut on the last day of the previou season he remained at ashton gate for a further six year most of which wa spent a deputy to john shaw or ray cashley in november 1974 he wa loaned to exeter city playing 30 league gamesthe following season he wa loaned three time to torquay united in october 1975 to scunthorpe united in december 1975 and to colchester united in january 1976 before joining nasl side st loui star on loan for the 1976 season finally in august 1977 after 30 league game for bristol city bond moved to brentford where he wa to find regular firstteam football playing 122 league game in the next 3 yearsin october 1980 he returned to the southwest joining exeter city playing 138 league game before leaving league football and joining yeovil town he later joined weymouth from where he moved to bath city in october 1987 for a fee of 2000 he wa everpresent for the rest of the season but chose to return to yeovil town after city relegation from the conference at the end of the seasonhe remained with yeovil until hi retirement although did have a loan spell with gloucester city from november 1990 and played three game for them the following season soon after hi retirement a chance meeting with alan ball led to him becoming goalkeeping coach at exeter city while also running a newsagent in exeter he subsequently worked a a coach at a number of club before coaching in the united state he returned to the uk and worked with a number of club a well a coaching the fa youth academy he spent three year a goalkeeping coach with bristol city youth academy before another spell coaching in the united stateson hi return he coached at exeter city and torquay united before returning a goalkeeping coach to yeovil town he then joined bristol rover a goalkeeping coach in 2011 bond left yeovil town to concentrate on hi sportswear busines\n",
            "1.2122: matthew jame matt green born 2 january 1987 is an english footballer who play for birmingham city a a strikergreen started hi senior career at conference south side newport county in 2005 having been released from bristol city youth academy he made 56 league appearance for newport county in a twoseason spell at the club before joining championship side cardiff city in january 2007 having made six appearance for cardiff during the 200607 season he had three loan spell away from the club the following season one at league two club darlington in october 2007 where he made five appearance and two for conference premier side oxford united where he made 21 appearance released by cardiff at the end of the 200708 season he switched to conference side torquay united in may 2008 he made 29 league appearance for torquay during the 200809 season but joined oxford united for a third loan spell the following season having made 41 league appearance for oxford during the 200910 season he signed a permanent deal with the club where he made a further 17 appearance he spent the latter half of the 201011 season on loan to league two side cheltenham town where he made 19 league appearance and then joined conference side mansfield town in july 2011 initially on loan but permanently from january 2012 onward he made 87 league appearance for mansfield scoring 54 goal before signing for birmingham city\n",
            "1.2144: anthony tony smith born 20 february 1957 is a former footballer who played a a central defender in the football league in the 1970 and 1980she wa born in sunderland but joined newcastle united a a youth and made hi senior debut a a substitute for nigel walker against wolverhampton wanderer on 12 november 1977 he started the next match at home to arsenal but wa not able to make any more senior appearance in a struggling team smith wa transferred to peterborough united in march 1979smith quickly made hi debut for peterborough in a football league third division match against swansea city on 10 march 1979 with hi first goal following a fortnight later against plymouth argyle hi first cup game came early the following season a football league cup match against blackpool on 5 september 1979 hi final game for the posh wa at the end of the 198182 season against wigan athletic in all he made 68 football league appearance for the club 75 in all senior competitionssmith then moved to join halifax town and after 83 league match for them he signed for hartlepool united first playing a league game for them in the 198485 season he made 200 league appearance for hartlepool with hi final league game played in the 198889 season\n",
            "1.2183: peter rhoadesbrown born 2 january 1962 in hampton london is a retired english footballerrhoadesbrown played a a leftwinger for chelsea from 1979 to 1983 during hi fmy year with chelsea he scored fmy league goal when chelsea signed winger mickey thoma in january 1984 rhoadesbrown wa sold to oxford united for 85000he immediately gained a regular place with oxford but the problem of accommodating kevin brock saw rhoadesbrown become les of a permanent feature in the second division championship side an untimely injury coincidentally against queen park ranger oxford wembley opponent prevented him from playing in the 1986 milk cup final he stayed with oxford until 1989 when injury forced hi retirement hi last game being at bristol city on 11 october 1989 in total he played 87 league match for oxford plu 25 substitute appearance scoring 13 goal in competitive game he played 113 time plu 29 a a substitute scoring 16 goal he remain at oxford united where he work a busines development manager for the club a testimonial match between an oxford united xi and a chelsea xi wa held for him at the kassam stadium on 30 april 2007 in front of a crowd of 5130 among the player who appeared in the match were rhoadesbrown former oxford team mate ray houghton joey beauchamp and exengland manager steve mcclaren\n",
            "1.2195: stephen frank arnold born 5 january 1951 is an english former professional footballer who played in the football league a a midfielder for crewe alexandra liverpool southport torquay united and rochdalearnold wa born in willesden london he began hi football career a an apprentice at crewe alexandra turning professional in january 1969 and making hi league debut the same season hi talent wa soon spotted by bigger team and in september 1970 after only 15 league appearance he became a forerunner to the many player to leave crewe for the top flight when he joined liverpool for a fee of 12000 he failed to establish himself at anfield making only two league appearance hi only start wa in the penultimate league match of the season away to manchester city when bill shankly made ten change to protect hi firstchoice player before the fair cup semifinal against leed united just two day later incurring a heavy fine from the football leaguein january 1972 he wa sent on loan to southport scoring 3 time in 16 league appearance and in september of the following season he wa loaned to torquay united making hi debut in the goalles draw away to bury on 2 september he played twice more for the gull scoring in hi final appearance a 21 defeat away to league newcomer hereford united on 30 september in june 1973 he left anfield moving to rochdale where he wa to end hi league career after only one season of regular firstteam football making 40 league appearance and scoring oncehe went on to play nonleague football for weymouth scoring 14 goal from 57 appearance and on loan to dorchester town 13 appearance before injury forced hi retirement\n",
            "1.2247: george harri born 10 june 1940 is an englishborn footballer who played a a winger in the football league in the 1960 and early 1970safter starting with woking he moved to newport county and played 31 league game for them in the 196162 season before moving to watford he played 163 league game for the hornet and scored 55 goalsin 1966 harri moved to reading and he remained with the berkshire club until 1969 gaining the player of the season award in 196667 in all he made 156 appearance for reading scoring 66 goalshe left reading to join cambridge united and played for them in their first ever football league season in 197071 on 15 august 1970 he appeared for cambridge in their first ever football league match against lincoln city and a fortnight later he scored hi first football league goal for cambridge against oldham athletic on 14 november 1970 he became the first cambridge player to score more than one goal for united in a football league match when he scored two goal against hi former club newport county in total he made 35 football league appearance for cambridge scoring on 11 occasionsa of february 2009 harri wa living in reading\n",
            "1.2253: keith waugh born 27 october 1956 is an englishborn footballer who played a a goalkeeper in the football league between the 1970 and 1990 most notably with peterborough united sheffield united and bristol cityhe started a a trainee with sunderland but did not play any league game with them and he moved to peterborough united first playing a league game for them in 197677 he went on to make 195 league appearance for the poshhe moved to sheffield united in 1981 for a fee of 220000 and made 99 league appearance for the clubhe moved to bristol city in the mid1980 although he had loan spell at bristol city and cambridge united during the 198485 season before hi permanent move to the robinswaugh wa to make 167 league appearance for the ashton gate club including appearing in the 1986 football league trophy final before a brief spell at coventry city in the late 1980 he then moved to watford and made a total of 7 league appearance for them on 23 march 1993 he wa recalled to the watford team for the first time in 14 month against newcastle united and put in an excellent performance in watford 10 victory hi final football league appearance came against charlton athletic on 6 april 1993 after hi playing career finished he remained at watford a youth team coach\n",
            "1.2275: nichola vincent nick colgan born 19 september 1973 is an irish former professional footballer who work a the head goalkeeping coach for football championship side huddersfield towna a player he wa a goalkeeper from 1991 to 2013 and first briefly played for hi hometown club drogheda united between 1991 and 1992 before signing for premier league side chelsea whilst at stamford bridge he often found himself a backup to the like of dmitrus kharine and frode groda and spent time on loan at crewe alexandra grimsby town millwall brentford and reading he joined bournemouth permanently in 1998 where he stayed for a year before a move to scottish premier league club hibernian colgan made over 120 appearance in the league between 1999 and 2004 and went on to earn hi first full international cap for the republic of ireland in 2004 following a loan spell with stockport county he joined barnsley where he played for fmy year and also helping the club to promotion to the football league championship in 2006 in 2008 he joined ipswich town a an understudy to stephen bywater but left the club a few month later after failing to make an appearance and with that returned to the premier league when he joined sunderland a year later he returned to grimsby town and wa the first choice keeper when the club were to lose their football league following relegation to the conference colgan lost hi place in the team the following year and wa loaned out to huddersfield town before later making the move permanentduring the 201112 season colgan began coaching youngster back at former club barnsley a well a continuing to play with huddersfield in july 2012 he signed a new contract with huddersfield to make him the club academy goalkeeping coach a well a still making himself available a a player\n",
            "1.2277: peter hucker born 28 october 1959 is an english former footballer who played a a goalkeeper in the football league during the 1980 and early 1990sborn in hampstead he joined queen park ranger a a schoolboy in december 1974 signed apprentice form in july 1976 and turned professional in july 1977 making hi league debut against shrewsbury town in 1981 hucker had been at the club since he wa a junior but had played very few gameshe had seen a succession of manager bring their own preferred goalkeeper in while he bided hi time in the reserveshe got hi big chance in a fa cup third round tie at loftu road in 1982 against middlesbrough the firstchoice keeper at the time john burridge wa injured but wa also not very keen on playing on the synthetic playing surface that loftu road had at the time hucker played very well in the cup tie and retained hi place for the remainder of the season including in the 1982 fa cup final against tottenham hotspur in which he wa voted the man of the match for hi performance in the first game in which he played extremely well despite being injuredhucker wa to play a key role the following season a well a qpr stormed to the second division title and then the following year a ranger finished top london club in the 198384 season qualifying for the uefa cup like many of the talented player of that team hi form suffered a terry venable left the club in 1984 to be replaced by alan mullery he lost hi place during the 198586 season to paul barron and he transferred to oxford united in february 1987 hucker played 160 league game for qprin a threeyear spell at oxford hucker played 66 league match but toward the end of hi time there he went on several loan spell first to west bromwich albion in 198788 making seven appearance and then twice to manchester united without making a single appearancehe finished hi career in nonleague football and went on to establish a successful goalkeeping coaching school after retiring from the game\n",
            "1.2342: gary hooper born 26 january 1988 is an english professional footballer who play a a forward for norwich cityhooper started hi career at nonleague gray athletic in 2003 while there he won the 200405 conference south a well a the fa trophy twice in 2005 and 2006 after thi championship club southend united signed him on a free transfer in 2006 he wa loaned out twice by the club on a threemonth loan to league one club leyton orient in 2007 and a sixmonth loan to league two club hereford united in 2008 scunthorpe united signed him in 2008 for a fee of 175000 after two year he wa signed by scottish premier league side celtic for 24 million in hi first season with the club he wa the top scorer and also won the 2011 scottish cuphooper ha scored in the premier league championship league one league two fa cup league cup football league trophy fa trophy uefa champion league uefa europa league scottish cup scottish league cup and the scottish premier league the first and only player to achieve thi feat on top of thi he ha also scored in the conference premier and the conference southhooper wa born in england but ha not represented the national team at any level in march 2011 it wa thought that he may be eligible to represent scotland however thi possibility wa later closed off since hi move to celtic he ha been considered for england duty and wa called up to the under21 squad for a friendly but had to pull out due to injury he wa then included in the provisional squad for the 2011 european under21 championship but did not go to the tournament\n"
          ]
        }
      ]
    },
    {
      "cell_type": "markdown",
      "metadata": {
        "id": "SyoC6PWeN9un"
      },
      "source": [
        "# Part 2)\n",
        "\n"
      ]
    },
    {
      "cell_type": "markdown",
      "metadata": {
        "id": "AJxfrb48N-v9"
      },
      "source": [
        "- For the same target person that you chose in Part 1), use the Wikipedia API to access the whole content of the target person's Wikipedia page.\n",
        "- The goal of Part 2) is to ...\n",
        "  1. Print out the text of the Wikipedia article for the target person\n",
        "  1. Determine the sentiment of the text of the Wikipedia page for the target person\n",
        "  1. Collect the text of the Wikipedia pages from the 10 nearest neighbors from Part 1)\n",
        "  1. Determine the nearness ranking of these 10 people to your target person based on their entire Wikipedia page\n",
        "  1. Compare, i.e. plot,  the nearest ranking from Step 1) with the Wikipedia page nearness ranking.  A difference of the rank is one means of comparison.\n",
        "\n"
      ]
    },
    {
      "cell_type": "markdown",
      "source": [
        "### Using Wikipedia API"
      ],
      "metadata": {
        "id": "hVMR9aHLUQDs"
      }
    },
    {
      "cell_type": "markdown",
      "source": [
        "- Install Wikipedia API"
      ],
      "metadata": {
        "id": "4gexn1MnUa5N"
      }
    },
    {
      "cell_type": "code",
      "source": [
        "%%capture output\n",
        "#install Wikipedia API\n",
        "!pip3 install wikipedia-api\n"
      ],
      "metadata": {
        "id": "ttCkRGtXUSiV"
      },
      "execution_count": null,
      "outputs": []
    },
    {
      "cell_type": "code",
      "source": [
        "import wikipediaapi\n",
        "from sklearn.feature_extraction.text import TfidfVectorizer\n",
        "from sklearn.metrics.pairwise import cosine_similarity\n",
        "import numpy as np\n",
        "import re"
      ],
      "metadata": {
        "id": "RM7JU-ZOUadS"
      },
      "execution_count": null,
      "outputs": []
    },
    {
      "cell_type": "markdown",
      "source": [
        "- Pull out page from Wikipedia"
      ],
      "metadata": {
        "id": "QTdzPKFdUepc"
      }
    },
    {
      "cell_type": "code",
      "source": [
        "# https://en.wikipedia.org/wiki/Alan_Judge_(English_footballer)\n",
        "topic = 'Alan_Judge_(English_footballer)'\n",
        "wikip = wikipediaapi.Wikipedia('foobar')\n",
        "page_ex = wikip.page(topic)\n",
        "wiki_text = page_ex.text\n",
        "wiki_text\n"
      ],
      "metadata": {
        "id": "SI8mGotMUtca",
        "colab": {
          "base_uri": "https://localhost:8080/",
          "height": 157
        },
        "outputId": "f7c6bf16-8b74-40d5-fbe3-c90eab724659"
      },
      "execution_count": null,
      "outputs": [
        {
          "output_type": "execute_result",
          "data": {
            "text/plain": [
              "\"Alan Graham Judge (born 14 May 1960) is an English retired professional footballer, who is the seventh oldest player to play in the Football League. He played as a goalkeeper.\\nDuring his career he played for various clubs at all tiers of the League. He was part of the Oxford United team that won the Milk Cup in 1986. He also briefly served as a backup goalkeeper for Chelsea in the European Cup Winners' Cup.\\nOften referred to as The Judge, after retiring from the professional game he worked as a driving instructor and goalkeeping coach at several clubs including Swindon and Oxford, occasionally acting as emergency goalkeeping cover. In 2001, he organised a re-run of the 1986 Milk Cup Final against QPR, for charity.\\nOn 18 March 2003, at the age of 42, he played his first Football League match since leaving Hereford United in 1994. He helped Oxford to a 1–1 draw with Cambridge United, making a vital save in stoppage time. During the 2003–04 season he also played for Didcot Town. He made a second appearance for Oxford on 6 November 2004, at the age of 44 years and 176 days. This made him the seventh oldest footballer ever to have appeared in the Football League or Premier League. During this season he also played for Chipping Norton Town.\\n\\n\\n== References ==\""
            ],
            "application/vnd.google.colaboratory.intrinsic+json": {
              "type": "string"
            }
          },
          "metadata": {},
          "execution_count": 49
        }
      ]
    },
    {
      "cell_type": "markdown",
      "source": [
        "### Text Cleaning"
      ],
      "metadata": {
        "id": "wcuSi5joZhh4"
      }
    },
    {
      "cell_type": "markdown",
      "source": [
        "- Replace newline chars with spaces before doing any processing. Strip the ' and \"s\" from possessives."
      ],
      "metadata": {
        "id": "uDErLn1oZnTB"
      }
    },
    {
      "cell_type": "code",
      "source": [
        "wiki_text_clean = (\n",
        "  wiki_text\n",
        "  .lower()\n",
        "  .replace(\"\\n\",\" \")\n",
        "  .replace(\"\\'s\",'')\n",
        "  .replace('\\'','')\n",
        "  .replace(\"(\", \"\")\n",
        "  .replace(\")\", \"\")\n",
        "  .replace('\"', \"\")\n",
        ")\n",
        "wiki_text_clean\n"
      ],
      "metadata": {
        "colab": {
          "base_uri": "https://localhost:8080/",
          "height": 157
        },
        "id": "vujB79PPZmUG",
        "outputId": "9017aa48-0d71-4440-dd7d-8a5ddff63130"
      },
      "execution_count": null,
      "outputs": [
        {
          "output_type": "execute_result",
          "data": {
            "text/plain": [
              "'alan graham judge born 14 may 1960 is an english retired professional footballer, who is the seventh oldest player to play in the football league. he played as a goalkeeper. during his career he played for various clubs at all tiers of the league. he was part of the oxford united team that won the milk cup in 1986. he also briefly served as a backup goalkeeper for chelsea in the european cup winners cup. often referred to as the judge, after retiring from the professional game he worked as a driving instructor and goalkeeping coach at several clubs including swindon and oxford, occasionally acting as emergency goalkeeping cover. in 2001, he organised a re-run of the 1986 milk cup final against qpr, for charity. on 18 march 2003, at the age of 42, he played his first football league match since leaving hereford united in 1994. he helped oxford to a 1–1 draw with cambridge united, making a vital save in stoppage time. during the 2003–04 season he also played for didcot town. he made a second appearance for oxford on 6 november 2004, at the age of 44 years and 176 days. this made him the seventh oldest footballer ever to have appeared in the football league or premier league. during this season he also played for chipping norton town.   == references =='"
            ],
            "application/vnd.google.colaboratory.intrinsic+json": {
              "type": "string"
            }
          },
          "metadata": {},
          "execution_count": 50
        }
      ]
    },
    {
      "cell_type": "markdown",
      "source": [
        "#### Convert to TextBlob"
      ],
      "metadata": {
        "id": "PIji2jnMaQKx"
      }
    },
    {
      "cell_type": "code",
      "source": [
        "# Convert to textblob\n",
        "wiki_blob = TextBlob(wiki_text_clean)\n",
        "wiki_blob"
      ],
      "metadata": {
        "colab": {
          "base_uri": "https://localhost:8080/"
        },
        "id": "RcUMbdGDaVt3",
        "outputId": "77a12833-8922-4a70-fb87-7a6246b625c3"
      },
      "execution_count": null,
      "outputs": [
        {
          "output_type": "execute_result",
          "data": {
            "text/plain": [
              "TextBlob(\"alan graham judge born 14 may 1960 is an english retired professional footballer, who is the seventh oldest player to play in the football league. he played as a goalkeeper. during his career he played for various clubs at all tiers of the league. he was part of the oxford united team that won the milk cup in 1986. he also briefly served as a backup goalkeeper for chelsea in the european cup winners cup. often referred to as the judge, after retiring from the professional game he worked as a driving instructor and goalkeeping coach at several clubs including swindon and oxford, occasionally acting as emergency goalkeeping cover. in 2001, he organised a re-run of the 1986 milk cup final against qpr, for charity. on 18 march 2003, at the age of 42, he played his first football league match since leaving hereford united in 1994. he helped oxford to a 1–1 draw with cambridge united, making a vital save in stoppage time. during the 2003–04 season he also played for didcot town. he made a second appearance for oxford on 6 november 2004, at the age of 44 years and 176 days. this made him the seventh oldest footballer ever to have appeared in the football league or premier league. during this season he also played for chipping norton town.   == references ==\")"
            ]
          },
          "metadata": {},
          "execution_count": 51
        }
      ]
    },
    {
      "cell_type": "code",
      "source": [
        "# Check how many sentences are in this textblob\n",
        "len(wiki_blob.sentences)"
      ],
      "metadata": {
        "colab": {
          "base_uri": "https://localhost:8080/"
        },
        "id": "C4HXUWO1ac0c",
        "outputId": "350ef325-b9d1-43ce-d23b-62bb5d597acb"
      },
      "execution_count": null,
      "outputs": [
        {
          "output_type": "execute_result",
          "data": {
            "text/plain": [
              "12"
            ]
          },
          "metadata": {},
          "execution_count": 52
        }
      ]
    },
    {
      "cell_type": "markdown",
      "source": [
        "### Sentiment analysis of text in Wikipedia"
      ],
      "metadata": {
        "id": "zSQtzHBuwYg_"
      }
    },
    {
      "cell_type": "markdown",
      "source": [
        "Note: .sentiment cannot be used with str (for the ErrorMessage)"
      ],
      "metadata": {
        "id": "qEcNSn0DwdiX"
      }
    },
    {
      "cell_type": "code",
      "source": [
        "# sentiment analysis of the whole text from Wikipedia\n",
        "polarity_wiki = wiki_blob.sentiment.polarity\n",
        "subjectivity_wiki = wiki_blob.sentiment.subjectivity\n",
        "print(f\"The text of Wikipedia on Alan_Judge_(English_footballer) has polarity of {polarity_wiki: .4f} and subjectivity of {subjectivity_wiki: .4f}.\")"
      ],
      "metadata": {
        "colab": {
          "base_uri": "https://localhost:8080/"
        },
        "id": "LE4gKtLav0d7",
        "outputId": "b5de9800-019e-4eb6-bcce-9d40f62661c4"
      },
      "execution_count": null,
      "outputs": [
        {
          "output_type": "stream",
          "name": "stdout",
          "text": [
            "The text of Wikipedia on Alan_Judge_(English_footballer) has polarity of  0.0115 and subjectivity of  0.2436.\n"
          ]
        }
      ]
    },
    {
      "cell_type": "markdown",
      "source": [
        "#### Convert sentences in TextBlob to strings"
      ],
      "metadata": {
        "id": "dhhOBLDuz9mG"
      }
    },
    {
      "cell_type": "code",
      "source": [
        "# 12 sentences in TextBlob\n",
        "api_sentences = wiki_blob.sentences\n",
        "api_sentences"
      ],
      "metadata": {
        "colab": {
          "base_uri": "https://localhost:8080/"
        },
        "id": "CJwWn69ytJg1",
        "outputId": "69311d77-2bdb-4500-8454-e043ddae9591"
      },
      "execution_count": null,
      "outputs": [
        {
          "output_type": "execute_result",
          "data": {
            "text/plain": [
              "[Sentence(\"alan graham judge born 14 may 1960 is an english retired professional footballer, who is the seventh oldest player to play in the football league.\"),\n",
              " Sentence(\"he played as a goalkeeper.\"),\n",
              " Sentence(\"during his career he played for various clubs at all tiers of the league.\"),\n",
              " Sentence(\"he was part of the oxford united team that won the milk cup in 1986. he also briefly served as a backup goalkeeper for chelsea in the european cup winners cup.\"),\n",
              " Sentence(\"often referred to as the judge, after retiring from the professional game he worked as a driving instructor and goalkeeping coach at several clubs including swindon and oxford, occasionally acting as emergency goalkeeping cover.\"),\n",
              " Sentence(\"in 2001, he organised a re-run of the 1986 milk cup final against qpr, for charity.\"),\n",
              " Sentence(\"on 18 march 2003, at the age of 42, he played his first football league match since leaving hereford united in 1994. he helped oxford to a 1–1 draw with cambridge united, making a vital save in stoppage time.\"),\n",
              " Sentence(\"during the 2003–04 season he also played for didcot town.\"),\n",
              " Sentence(\"he made a second appearance for oxford on 6 november 2004, at the age of 44 years and 176 days.\"),\n",
              " Sentence(\"this made him the seventh oldest footballer ever to have appeared in the football league or premier league.\"),\n",
              " Sentence(\"during this season he also played for chipping norton town.\"),\n",
              " Sentence(\"== references ==\")]"
            ]
          },
          "metadata": {},
          "execution_count": 55
        }
      ]
    },
    {
      "cell_type": "code",
      "source": [
        "# Convert text blob sentences to strings\n",
        "api_sentences_str = [ str(x) for x in api_sentences ]\n",
        "api_sentences_str\n"
      ],
      "metadata": {
        "colab": {
          "base_uri": "https://localhost:8080/"
        },
        "id": "9Zr8b9OntAKd",
        "outputId": "4726e402-a095-4907-9508-dfcc53ccf7d7"
      },
      "execution_count": null,
      "outputs": [
        {
          "output_type": "execute_result",
          "data": {
            "text/plain": [
              "['alan graham judge born 14 may 1960 is an english retired professional footballer, who is the seventh oldest player to play in the football league.',\n",
              " 'he played as a goalkeeper.',\n",
              " 'during his career he played for various clubs at all tiers of the league.',\n",
              " 'he was part of the oxford united team that won the milk cup in 1986. he also briefly served as a backup goalkeeper for chelsea in the european cup winners cup.',\n",
              " 'often referred to as the judge, after retiring from the professional game he worked as a driving instructor and goalkeeping coach at several clubs including swindon and oxford, occasionally acting as emergency goalkeeping cover.',\n",
              " 'in 2001, he organised a re-run of the 1986 milk cup final against qpr, for charity.',\n",
              " 'on 18 march 2003, at the age of 42, he played his first football league match since leaving hereford united in 1994. he helped oxford to a 1–1 draw with cambridge united, making a vital save in stoppage time.',\n",
              " 'during the 2003–04 season he also played for didcot town.',\n",
              " 'he made a second appearance for oxford on 6 november 2004, at the age of 44 years and 176 days.',\n",
              " 'this made him the seventh oldest footballer ever to have appeared in the football league or premier league.',\n",
              " 'during this season he also played for chipping norton town.',\n",
              " '== references ==']"
            ]
          },
          "metadata": {},
          "execution_count": 56
        }
      ]
    },
    {
      "cell_type": "markdown",
      "source": [
        "#### Using TfidfTransformer"
      ],
      "metadata": {
        "id": "DgBIaRNAVl_t"
      }
    },
    {
      "cell_type": "code",
      "source": [
        "# Perform the TF-IDF Vectorization\n",
        "tf_idf_vec = TfidfVectorizer(stop_words = 'english')\n",
        "tf_idf_pp = tf_idf_vec.fit_transform(api_sentences_str)\n",
        "tf_idf_pp.shape"
      ],
      "metadata": {
        "colab": {
          "base_uri": "https://localhost:8080/"
        },
        "id": "WlUbV-74VhgH",
        "outputId": "b5cdd2cd-84d7-42a0-97d9-329a59cc4172"
      },
      "execution_count": null,
      "outputs": [
        {
          "output_type": "execute_result",
          "data": {
            "text/plain": [
              "(12, 89)"
            ]
          },
          "metadata": {},
          "execution_count": 57
        }
      ]
    },
    {
      "cell_type": "code",
      "source": [
        "tf_idf_pp"
      ],
      "metadata": {
        "colab": {
          "base_uri": "https://localhost:8080/"
        },
        "id": "x1D9C_HlWRma",
        "outputId": "c411b07a-220b-4d97-896b-4a274909d1ca"
      },
      "execution_count": null,
      "outputs": [
        {
          "output_type": "execute_result",
          "data": {
            "text/plain": [
              "<Compressed Sparse Row sparse matrix of dtype 'float64'\n",
              "\twith 116 stored elements and shape (12, 89)>"
            ]
          },
          "metadata": {},
          "execution_count": 58
        }
      ]
    },
    {
      "cell_type": "code",
      "source": [
        "np.set_printoptions(precision=6, formatter=None)\n",
        "tf_idf_vec.get_feature_names_out()"
      ],
      "metadata": {
        "colab": {
          "base_uri": "https://localhost:8080/"
        },
        "id": "W8BIuPQkWVa-",
        "outputId": "3375b9c0-763d-473b-f4e7-b0aa5c87d638"
      },
      "execution_count": null,
      "outputs": [
        {
          "output_type": "execute_result",
          "data": {
            "text/plain": [
              "array(['04', '14', '176', '18', '1960', '1986', '1994', '2001', '2003',\n",
              "       '2004', '42', '44', 'acting', 'age', 'alan', 'appearance',\n",
              "       'appeared', 'backup', 'born', 'briefly', 'cambridge', 'career',\n",
              "       'charity', 'chelsea', 'chipping', 'clubs', 'coach', 'cover', 'cup',\n",
              "       'days', 'didcot', 'draw', 'driving', 'emergency', 'english',\n",
              "       'european', 'final', 'football', 'footballer', 'game',\n",
              "       'goalkeeper', 'goalkeeping', 'graham', 'helped', 'hereford',\n",
              "       'including', 'instructor', 'judge', 'league', 'leaving', 'making',\n",
              "       'march', 'match', 'milk', 'norton', 'november', 'occasionally',\n",
              "       'oldest', 'organised', 'oxford', 'play', 'played', 'player',\n",
              "       'premier', 'professional', 'qpr', 'references', 'referred',\n",
              "       'retired', 'retiring', 'run', 'save', 'season', 'second', 'served',\n",
              "       'seventh', 'stoppage', 'swindon', 'team', 'tiers', 'time', 'town',\n",
              "       'united', 'various', 'vital', 'winners', 'won', 'worked', 'years'],\n",
              "      dtype=object)"
            ]
          },
          "metadata": {},
          "execution_count": 59
        }
      ]
    },
    {
      "cell_type": "code",
      "source": [
        "# Print out results in a dataframe\n",
        "target_tf_df = pd.DataFrame(tf_idf_pp.toarray(), columns = tf_idf_vec.get_feature_names_out())\n",
        "target_tf_df.transpose()"
      ],
      "metadata": {
        "colab": {
          "base_uri": "https://localhost:8080/",
          "height": 423
        },
        "id": "cHEyv9fvWfHf",
        "outputId": "d640b658-6cf6-48e9-a3e4-aa3162f5d75b"
      },
      "execution_count": null,
      "outputs": [
        {
          "output_type": "execute_result",
          "data": {
            "text/plain": [
              "               0    1    2         3         4    5         6         7   \\\n",
              "04       0.000000  0.0  0.0  0.000000  0.000000  0.0  0.000000  0.466561   \n",
              "14       0.269906  0.0  0.0  0.000000  0.000000  0.0  0.000000  0.000000   \n",
              "176      0.000000  0.0  0.0  0.000000  0.000000  0.0  0.000000  0.000000   \n",
              "18       0.000000  0.0  0.0  0.000000  0.000000  0.0  0.216628  0.000000   \n",
              "1960     0.269906  0.0  0.0  0.000000  0.000000  0.0  0.000000  0.000000   \n",
              "...           ...  ...  ...       ...       ...  ...       ...       ...   \n",
              "vital    0.000000  0.0  0.0  0.000000  0.000000  0.0  0.216628  0.000000   \n",
              "winners  0.000000  0.0  0.0  0.235363  0.000000  0.0  0.000000  0.000000   \n",
              "won      0.000000  0.0  0.0  0.235363  0.000000  0.0  0.000000  0.000000   \n",
              "worked   0.000000  0.0  0.0  0.000000  0.225438  0.0  0.000000  0.000000   \n",
              "years    0.000000  0.0  0.0  0.000000  0.000000  0.0  0.000000  0.000000   \n",
              "\n",
              "               8    9    10   11  \n",
              "04       0.000000  0.0  0.0  0.0  \n",
              "14       0.000000  0.0  0.0  0.0  \n",
              "176      0.329668  0.0  0.0  0.0  \n",
              "18       0.000000  0.0  0.0  0.0  \n",
              "1960     0.000000  0.0  0.0  0.0  \n",
              "...           ...  ...  ...  ...  \n",
              "vital    0.000000  0.0  0.0  0.0  \n",
              "winners  0.000000  0.0  0.0  0.0  \n",
              "won      0.000000  0.0  0.0  0.0  \n",
              "worked   0.000000  0.0  0.0  0.0  \n",
              "years    0.329668  0.0  0.0  0.0  \n",
              "\n",
              "[89 rows x 12 columns]"
            ],
            "text/html": [
              "\n",
              "  <div id=\"df-7b6f203f-e089-437b-a5e6-41faa97f2028\" class=\"colab-df-container\">\n",
              "    <div>\n",
              "<style scoped>\n",
              "    .dataframe tbody tr th:only-of-type {\n",
              "        vertical-align: middle;\n",
              "    }\n",
              "\n",
              "    .dataframe tbody tr th {\n",
              "        vertical-align: top;\n",
              "    }\n",
              "\n",
              "    .dataframe thead th {\n",
              "        text-align: right;\n",
              "    }\n",
              "</style>\n",
              "<table border=\"1\" class=\"dataframe\">\n",
              "  <thead>\n",
              "    <tr style=\"text-align: right;\">\n",
              "      <th></th>\n",
              "      <th>0</th>\n",
              "      <th>1</th>\n",
              "      <th>2</th>\n",
              "      <th>3</th>\n",
              "      <th>4</th>\n",
              "      <th>5</th>\n",
              "      <th>6</th>\n",
              "      <th>7</th>\n",
              "      <th>8</th>\n",
              "      <th>9</th>\n",
              "      <th>10</th>\n",
              "      <th>11</th>\n",
              "    </tr>\n",
              "  </thead>\n",
              "  <tbody>\n",
              "    <tr>\n",
              "      <th>04</th>\n",
              "      <td>0.000000</td>\n",
              "      <td>0.0</td>\n",
              "      <td>0.0</td>\n",
              "      <td>0.000000</td>\n",
              "      <td>0.000000</td>\n",
              "      <td>0.0</td>\n",
              "      <td>0.000000</td>\n",
              "      <td>0.466561</td>\n",
              "      <td>0.000000</td>\n",
              "      <td>0.0</td>\n",
              "      <td>0.0</td>\n",
              "      <td>0.0</td>\n",
              "    </tr>\n",
              "    <tr>\n",
              "      <th>14</th>\n",
              "      <td>0.269906</td>\n",
              "      <td>0.0</td>\n",
              "      <td>0.0</td>\n",
              "      <td>0.000000</td>\n",
              "      <td>0.000000</td>\n",
              "      <td>0.0</td>\n",
              "      <td>0.000000</td>\n",
              "      <td>0.000000</td>\n",
              "      <td>0.000000</td>\n",
              "      <td>0.0</td>\n",
              "      <td>0.0</td>\n",
              "      <td>0.0</td>\n",
              "    </tr>\n",
              "    <tr>\n",
              "      <th>176</th>\n",
              "      <td>0.000000</td>\n",
              "      <td>0.0</td>\n",
              "      <td>0.0</td>\n",
              "      <td>0.000000</td>\n",
              "      <td>0.000000</td>\n",
              "      <td>0.0</td>\n",
              "      <td>0.000000</td>\n",
              "      <td>0.000000</td>\n",
              "      <td>0.329668</td>\n",
              "      <td>0.0</td>\n",
              "      <td>0.0</td>\n",
              "      <td>0.0</td>\n",
              "    </tr>\n",
              "    <tr>\n",
              "      <th>18</th>\n",
              "      <td>0.000000</td>\n",
              "      <td>0.0</td>\n",
              "      <td>0.0</td>\n",
              "      <td>0.000000</td>\n",
              "      <td>0.000000</td>\n",
              "      <td>0.0</td>\n",
              "      <td>0.216628</td>\n",
              "      <td>0.000000</td>\n",
              "      <td>0.000000</td>\n",
              "      <td>0.0</td>\n",
              "      <td>0.0</td>\n",
              "      <td>0.0</td>\n",
              "    </tr>\n",
              "    <tr>\n",
              "      <th>1960</th>\n",
              "      <td>0.269906</td>\n",
              "      <td>0.0</td>\n",
              "      <td>0.0</td>\n",
              "      <td>0.000000</td>\n",
              "      <td>0.000000</td>\n",
              "      <td>0.0</td>\n",
              "      <td>0.000000</td>\n",
              "      <td>0.000000</td>\n",
              "      <td>0.000000</td>\n",
              "      <td>0.0</td>\n",
              "      <td>0.0</td>\n",
              "      <td>0.0</td>\n",
              "    </tr>\n",
              "    <tr>\n",
              "      <th>...</th>\n",
              "      <td>...</td>\n",
              "      <td>...</td>\n",
              "      <td>...</td>\n",
              "      <td>...</td>\n",
              "      <td>...</td>\n",
              "      <td>...</td>\n",
              "      <td>...</td>\n",
              "      <td>...</td>\n",
              "      <td>...</td>\n",
              "      <td>...</td>\n",
              "      <td>...</td>\n",
              "      <td>...</td>\n",
              "    </tr>\n",
              "    <tr>\n",
              "      <th>vital</th>\n",
              "      <td>0.000000</td>\n",
              "      <td>0.0</td>\n",
              "      <td>0.0</td>\n",
              "      <td>0.000000</td>\n",
              "      <td>0.000000</td>\n",
              "      <td>0.0</td>\n",
              "      <td>0.216628</td>\n",
              "      <td>0.000000</td>\n",
              "      <td>0.000000</td>\n",
              "      <td>0.0</td>\n",
              "      <td>0.0</td>\n",
              "      <td>0.0</td>\n",
              "    </tr>\n",
              "    <tr>\n",
              "      <th>winners</th>\n",
              "      <td>0.000000</td>\n",
              "      <td>0.0</td>\n",
              "      <td>0.0</td>\n",
              "      <td>0.235363</td>\n",
              "      <td>0.000000</td>\n",
              "      <td>0.0</td>\n",
              "      <td>0.000000</td>\n",
              "      <td>0.000000</td>\n",
              "      <td>0.000000</td>\n",
              "      <td>0.0</td>\n",
              "      <td>0.0</td>\n",
              "      <td>0.0</td>\n",
              "    </tr>\n",
              "    <tr>\n",
              "      <th>won</th>\n",
              "      <td>0.000000</td>\n",
              "      <td>0.0</td>\n",
              "      <td>0.0</td>\n",
              "      <td>0.235363</td>\n",
              "      <td>0.000000</td>\n",
              "      <td>0.0</td>\n",
              "      <td>0.000000</td>\n",
              "      <td>0.000000</td>\n",
              "      <td>0.000000</td>\n",
              "      <td>0.0</td>\n",
              "      <td>0.0</td>\n",
              "      <td>0.0</td>\n",
              "    </tr>\n",
              "    <tr>\n",
              "      <th>worked</th>\n",
              "      <td>0.000000</td>\n",
              "      <td>0.0</td>\n",
              "      <td>0.0</td>\n",
              "      <td>0.000000</td>\n",
              "      <td>0.225438</td>\n",
              "      <td>0.0</td>\n",
              "      <td>0.000000</td>\n",
              "      <td>0.000000</td>\n",
              "      <td>0.000000</td>\n",
              "      <td>0.0</td>\n",
              "      <td>0.0</td>\n",
              "      <td>0.0</td>\n",
              "    </tr>\n",
              "    <tr>\n",
              "      <th>years</th>\n",
              "      <td>0.000000</td>\n",
              "      <td>0.0</td>\n",
              "      <td>0.0</td>\n",
              "      <td>0.000000</td>\n",
              "      <td>0.000000</td>\n",
              "      <td>0.0</td>\n",
              "      <td>0.000000</td>\n",
              "      <td>0.000000</td>\n",
              "      <td>0.329668</td>\n",
              "      <td>0.0</td>\n",
              "      <td>0.0</td>\n",
              "      <td>0.0</td>\n",
              "    </tr>\n",
              "  </tbody>\n",
              "</table>\n",
              "<p>89 rows × 12 columns</p>\n",
              "</div>\n",
              "    <div class=\"colab-df-buttons\">\n",
              "\n",
              "  <div class=\"colab-df-container\">\n",
              "    <button class=\"colab-df-convert\" onclick=\"convertToInteractive('df-7b6f203f-e089-437b-a5e6-41faa97f2028')\"\n",
              "            title=\"Convert this dataframe to an interactive table.\"\n",
              "            style=\"display:none;\">\n",
              "\n",
              "  <svg xmlns=\"http://www.w3.org/2000/svg\" height=\"24px\" viewBox=\"0 -960 960 960\">\n",
              "    <path d=\"M120-120v-720h720v720H120Zm60-500h600v-160H180v160Zm220 220h160v-160H400v160Zm0 220h160v-160H400v160ZM180-400h160v-160H180v160Zm440 0h160v-160H620v160ZM180-180h160v-160H180v160Zm440 0h160v-160H620v160Z\"/>\n",
              "  </svg>\n",
              "    </button>\n",
              "\n",
              "  <style>\n",
              "    .colab-df-container {\n",
              "      display:flex;\n",
              "      gap: 12px;\n",
              "    }\n",
              "\n",
              "    .colab-df-convert {\n",
              "      background-color: #E8F0FE;\n",
              "      border: none;\n",
              "      border-radius: 50%;\n",
              "      cursor: pointer;\n",
              "      display: none;\n",
              "      fill: #1967D2;\n",
              "      height: 32px;\n",
              "      padding: 0 0 0 0;\n",
              "      width: 32px;\n",
              "    }\n",
              "\n",
              "    .colab-df-convert:hover {\n",
              "      background-color: #E2EBFA;\n",
              "      box-shadow: 0px 1px 2px rgba(60, 64, 67, 0.3), 0px 1px 3px 1px rgba(60, 64, 67, 0.15);\n",
              "      fill: #174EA6;\n",
              "    }\n",
              "\n",
              "    .colab-df-buttons div {\n",
              "      margin-bottom: 4px;\n",
              "    }\n",
              "\n",
              "    [theme=dark] .colab-df-convert {\n",
              "      background-color: #3B4455;\n",
              "      fill: #D2E3FC;\n",
              "    }\n",
              "\n",
              "    [theme=dark] .colab-df-convert:hover {\n",
              "      background-color: #434B5C;\n",
              "      box-shadow: 0px 1px 3px 1px rgba(0, 0, 0, 0.15);\n",
              "      filter: drop-shadow(0px 1px 2px rgba(0, 0, 0, 0.3));\n",
              "      fill: #FFFFFF;\n",
              "    }\n",
              "  </style>\n",
              "\n",
              "    <script>\n",
              "      const buttonEl =\n",
              "        document.querySelector('#df-7b6f203f-e089-437b-a5e6-41faa97f2028 button.colab-df-convert');\n",
              "      buttonEl.style.display =\n",
              "        google.colab.kernel.accessAllowed ? 'block' : 'none';\n",
              "\n",
              "      async function convertToInteractive(key) {\n",
              "        const element = document.querySelector('#df-7b6f203f-e089-437b-a5e6-41faa97f2028');\n",
              "        const dataTable =\n",
              "          await google.colab.kernel.invokeFunction('convertToInteractive',\n",
              "                                                    [key], {});\n",
              "        if (!dataTable) return;\n",
              "\n",
              "        const docLinkHtml = 'Like what you see? Visit the ' +\n",
              "          '<a target=\"_blank\" href=https://colab.research.google.com/notebooks/data_table.ipynb>data table notebook</a>'\n",
              "          + ' to learn more about interactive tables.';\n",
              "        element.innerHTML = '';\n",
              "        dataTable['output_type'] = 'display_data';\n",
              "        await google.colab.output.renderOutput(dataTable, element);\n",
              "        const docLink = document.createElement('div');\n",
              "        docLink.innerHTML = docLinkHtml;\n",
              "        element.appendChild(docLink);\n",
              "      }\n",
              "    </script>\n",
              "  </div>\n",
              "\n",
              "\n",
              "    <div id=\"df-6dce223e-c4b6-4061-8908-adb5e2ab3a54\">\n",
              "      <button class=\"colab-df-quickchart\" onclick=\"quickchart('df-6dce223e-c4b6-4061-8908-adb5e2ab3a54')\"\n",
              "                title=\"Suggest charts\"\n",
              "                style=\"display:none;\">\n",
              "\n",
              "<svg xmlns=\"http://www.w3.org/2000/svg\" height=\"24px\"viewBox=\"0 0 24 24\"\n",
              "     width=\"24px\">\n",
              "    <g>\n",
              "        <path d=\"M19 3H5c-1.1 0-2 .9-2 2v14c0 1.1.9 2 2 2h14c1.1 0 2-.9 2-2V5c0-1.1-.9-2-2-2zM9 17H7v-7h2v7zm4 0h-2V7h2v10zm4 0h-2v-4h2v4z\"/>\n",
              "    </g>\n",
              "</svg>\n",
              "      </button>\n",
              "\n",
              "<style>\n",
              "  .colab-df-quickchart {\n",
              "      --bg-color: #E8F0FE;\n",
              "      --fill-color: #1967D2;\n",
              "      --hover-bg-color: #E2EBFA;\n",
              "      --hover-fill-color: #174EA6;\n",
              "      --disabled-fill-color: #AAA;\n",
              "      --disabled-bg-color: #DDD;\n",
              "  }\n",
              "\n",
              "  [theme=dark] .colab-df-quickchart {\n",
              "      --bg-color: #3B4455;\n",
              "      --fill-color: #D2E3FC;\n",
              "      --hover-bg-color: #434B5C;\n",
              "      --hover-fill-color: #FFFFFF;\n",
              "      --disabled-bg-color: #3B4455;\n",
              "      --disabled-fill-color: #666;\n",
              "  }\n",
              "\n",
              "  .colab-df-quickchart {\n",
              "    background-color: var(--bg-color);\n",
              "    border: none;\n",
              "    border-radius: 50%;\n",
              "    cursor: pointer;\n",
              "    display: none;\n",
              "    fill: var(--fill-color);\n",
              "    height: 32px;\n",
              "    padding: 0;\n",
              "    width: 32px;\n",
              "  }\n",
              "\n",
              "  .colab-df-quickchart:hover {\n",
              "    background-color: var(--hover-bg-color);\n",
              "    box-shadow: 0 1px 2px rgba(60, 64, 67, 0.3), 0 1px 3px 1px rgba(60, 64, 67, 0.15);\n",
              "    fill: var(--button-hover-fill-color);\n",
              "  }\n",
              "\n",
              "  .colab-df-quickchart-complete:disabled,\n",
              "  .colab-df-quickchart-complete:disabled:hover {\n",
              "    background-color: var(--disabled-bg-color);\n",
              "    fill: var(--disabled-fill-color);\n",
              "    box-shadow: none;\n",
              "  }\n",
              "\n",
              "  .colab-df-spinner {\n",
              "    border: 2px solid var(--fill-color);\n",
              "    border-color: transparent;\n",
              "    border-bottom-color: var(--fill-color);\n",
              "    animation:\n",
              "      spin 1s steps(1) infinite;\n",
              "  }\n",
              "\n",
              "  @keyframes spin {\n",
              "    0% {\n",
              "      border-color: transparent;\n",
              "      border-bottom-color: var(--fill-color);\n",
              "      border-left-color: var(--fill-color);\n",
              "    }\n",
              "    20% {\n",
              "      border-color: transparent;\n",
              "      border-left-color: var(--fill-color);\n",
              "      border-top-color: var(--fill-color);\n",
              "    }\n",
              "    30% {\n",
              "      border-color: transparent;\n",
              "      border-left-color: var(--fill-color);\n",
              "      border-top-color: var(--fill-color);\n",
              "      border-right-color: var(--fill-color);\n",
              "    }\n",
              "    40% {\n",
              "      border-color: transparent;\n",
              "      border-right-color: var(--fill-color);\n",
              "      border-top-color: var(--fill-color);\n",
              "    }\n",
              "    60% {\n",
              "      border-color: transparent;\n",
              "      border-right-color: var(--fill-color);\n",
              "    }\n",
              "    80% {\n",
              "      border-color: transparent;\n",
              "      border-right-color: var(--fill-color);\n",
              "      border-bottom-color: var(--fill-color);\n",
              "    }\n",
              "    90% {\n",
              "      border-color: transparent;\n",
              "      border-bottom-color: var(--fill-color);\n",
              "    }\n",
              "  }\n",
              "</style>\n",
              "\n",
              "      <script>\n",
              "        async function quickchart(key) {\n",
              "          const quickchartButtonEl =\n",
              "            document.querySelector('#' + key + ' button');\n",
              "          quickchartButtonEl.disabled = true;  // To prevent multiple clicks.\n",
              "          quickchartButtonEl.classList.add('colab-df-spinner');\n",
              "          try {\n",
              "            const charts = await google.colab.kernel.invokeFunction(\n",
              "                'suggestCharts', [key], {});\n",
              "          } catch (error) {\n",
              "            console.error('Error during call to suggestCharts:', error);\n",
              "          }\n",
              "          quickchartButtonEl.classList.remove('colab-df-spinner');\n",
              "          quickchartButtonEl.classList.add('colab-df-quickchart-complete');\n",
              "        }\n",
              "        (() => {\n",
              "          let quickchartButtonEl =\n",
              "            document.querySelector('#df-6dce223e-c4b6-4061-8908-adb5e2ab3a54 button');\n",
              "          quickchartButtonEl.style.display =\n",
              "            google.colab.kernel.accessAllowed ? 'block' : 'none';\n",
              "        })();\n",
              "      </script>\n",
              "    </div>\n",
              "\n",
              "    </div>\n",
              "  </div>\n"
            ],
            "application/vnd.google.colaboratory.intrinsic+json": {
              "type": "dataframe",
              "summary": "{\n  \"name\": \"target_tf_df\",\n  \"rows\": 89,\n  \"fields\": [\n    {\n      \"column\": 0,\n      \"properties\": {\n        \"dtype\": \"number\",\n        \"std\": 0.09666681225938534,\n        \"min\": 0.0,\n        \"max\": 0.2699058799215248,\n        \"num_unique_values\": 5,\n        \"samples\": [\n          0.2699058799215248,\n          0.18378843832349007,\n          0.20476055020873699\n        ],\n        \"semantic_type\": \"\",\n        \"description\": \"\"\n      }\n    },\n    {\n      \"column\": 1,\n      \"properties\": {\n        \"dtype\": \"number\",\n        \"std\": 0.10542733109853139,\n        \"min\": 0.0,\n        \"max\": 0.8119357757197336,\n        \"num_unique_values\": 3,\n        \"samples\": [\n          0.0,\n          0.8119357757197336,\n          0.5837467739580189\n        ],\n        \"semantic_type\": \"\",\n        \"description\": \"\"\n      }\n    },\n    {\n      \"column\": 2,\n      \"properties\": {\n        \"dtype\": \"number\",\n        \"std\": 0.10306587354132302,\n        \"min\": 0.0,\n        \"max\": 0.46714321793811414,\n        \"num_unique_values\": 5,\n        \"samples\": [\n          0.46714321793811414,\n          0.2884368697353691,\n          0.4011880219685821\n        ],\n        \"semantic_type\": \"\",\n        \"description\": \"\"\n      }\n    },\n    {\n      \"column\": 3,\n      \"properties\": {\n        \"dtype\": \"number\",\n        \"std\": 0.09918047058596861,\n        \"min\": 0.0,\n        \"max\": 0.606397604609465,\n        \"num_unique_values\": 5,\n        \"samples\": [\n          0.20213253486982166,\n          0.16026701716960262,\n          0.23536306574095867\n        ],\n        \"semantic_type\": \"\",\n        \"description\": \"\"\n      }\n    },\n    {\n      \"column\": 4,\n      \"properties\": {\n        \"dtype\": \"number\",\n        \"std\": 0.09591987466584934,\n        \"min\": 0.0,\n        \"max\": 0.4508766875339665,\n        \"num_unique_values\": 5,\n        \"samples\": [\n          0.22543834376698324,\n          0.1535089237448795,\n          0.1936090683515626\n        ],\n        \"semantic_type\": \"\",\n        \"description\": \"\"\n      }\n    },\n    {\n      \"column\": 5,\n      \"properties\": {\n        \"dtype\": \"number\",\n        \"std\": 0.10109442636977113,\n        \"min\": 0.0,\n        \"max\": 0.3489456239019364,\n        \"num_unique_values\": 3,\n        \"samples\": [\n          0.0,\n          0.2996785552099282,\n          0.3489456239019364\n        ],\n        \"semantic_type\": \"\",\n        \"description\": \"\"\n      }\n    },\n    {\n      \"column\": 6,\n      \"properties\": {\n        \"dtype\": \"number\",\n        \"std\": 0.09315310426678813,\n        \"min\": 0.0,\n        \"max\": 0.37208456682721824,\n        \"num_unique_values\": 7,\n        \"samples\": [\n          0.0,\n          0.21662758155126072,\n          0.13375637089794304\n        ],\n        \"semantic_type\": \"\",\n        \"description\": \"\"\n      }\n    },\n    {\n      \"column\": 7,\n      \"properties\": {\n        \"dtype\": \"number\",\n        \"std\": 0.10302361451079389,\n        \"min\": 0.0,\n        \"max\": 0.46656110592948946,\n        \"num_unique_values\": 4,\n        \"samples\": [\n          0.0,\n          0.2880774455606071,\n          0.46656110592948946\n        ],\n        \"semantic_type\": \"\",\n        \"description\": \"\"\n      }\n    },\n    {\n      \"column\": 8,\n      \"properties\": {\n        \"dtype\": \"number\",\n        \"std\": 0.10050261984507837,\n        \"min\": 0.0,\n        \"max\": 0.3296681951793734,\n        \"num_unique_values\": 4,\n        \"samples\": [\n          0.3296681951793734,\n          0.22448270772966072,\n          0.0\n        ],\n        \"semantic_type\": \"\",\n        \"description\": \"\"\n      }\n    },\n    {\n      \"column\": 9,\n      \"properties\": {\n        \"dtype\": \"number\",\n        \"std\": 0.10247733823553412,\n        \"min\": 0.0,\n        \"max\": 0.5283931650687975,\n        \"num_unique_values\": 5,\n        \"samples\": [\n          0.38799073397476447,\n          0.5283931650687975,\n          0.29434407352541997\n        ],\n        \"semantic_type\": \"\",\n        \"description\": \"\"\n      }\n    },\n    {\n      \"column\": 10,\n      \"properties\": {\n        \"dtype\": \"number\",\n        \"std\": 0.10364081386695348,\n        \"min\": 0.0,\n        \"max\": 0.5092269279824806,\n        \"num_unique_values\": 4,\n        \"samples\": [\n          0.5092269279824806,\n          0.4373300010051597,\n          0.0\n        ],\n        \"semantic_type\": \"\",\n        \"description\": \"\"\n      }\n    },\n    {\n      \"column\": 11,\n      \"properties\": {\n        \"dtype\": \"number\",\n        \"std\": 0.10599978800063595,\n        \"min\": 0.0,\n        \"max\": 1.0,\n        \"num_unique_values\": 2,\n        \"samples\": [\n          1.0,\n          0.0\n        ],\n        \"semantic_type\": \"\",\n        \"description\": \"\"\n      }\n    }\n  ]\n}"
            }
          },
          "metadata": {},
          "execution_count": 60
        }
      ]
    },
    {
      "cell_type": "markdown",
      "source": [
        "## Wikipedia of the 10 closest people"
      ],
      "metadata": {
        "id": "OhmxKihTWgGa"
      }
    },
    {
      "cell_type": "code",
      "source": [
        "target_pp = og_npl_data.iloc[indices[0]]\n"
      ],
      "metadata": {
        "id": "ao5l7RWn3G7-",
        "collapsed": true
      },
      "execution_count": null,
      "outputs": []
    },
    {
      "cell_type": "code",
      "source": [
        "# Create a dataframe of the target person and the closest 10 people from part 1\n",
        "target_pp_df = pd.DataFrame(target_pp)\n",
        "target_pp_df"
      ],
      "metadata": {
        "colab": {
          "base_uri": "https://localhost:8080/",
          "height": 585
        },
        "id": "IPPb0dG22zQE",
        "outputId": "474cb3ef-048c-4d1d-bf32-483abc55c22a"
      },
      "execution_count": null,
      "outputs": [
        {
          "output_type": "execute_result",
          "data": {
            "text/plain": [
              "                                                     URI  \\\n",
              "42782  <http://dbpedia.org/resource/Alan_Judge_(footb...   \n",
              "34838             <http://dbpedia.org/resource/Len_Bond>   \n",
              "23099  <http://dbpedia.org/resource/Matt_Green_(footb...   \n",
              "24116  <http://dbpedia.org/resource/Tony_Smith_(footb...   \n",
              "25507  <http://dbpedia.org/resource/Peter_Rhoades-Brown>   \n",
              "3785   <http://dbpedia.org/resource/Steve_Arnold_(foo...   \n",
              "19611  <http://dbpedia.org/resource/George_Harris_(fo...   \n",
              "4113           <http://dbpedia.org/resource/Keith_Waugh>   \n",
              "31709          <http://dbpedia.org/resource/Nick_Colgan>   \n",
              "4300          <http://dbpedia.org/resource/Peter_Hucker>   \n",
              "21696          <http://dbpedia.org/resource/Gary_Hooper>   \n",
              "\n",
              "                                        name  \\\n",
              "42782     Alan Judge (footballer, born 1960)   \n",
              "34838                               Len Bond   \n",
              "23099                Matt Green (footballer)   \n",
              "24116     Tony Smith (footballer, born 1957)   \n",
              "25507                    Peter Rhoades-Brown   \n",
              "3785    Steve Arnold (footballer, born 1951)   \n",
              "19611  George Harris (footballer, born 1940)   \n",
              "4113                             Keith Waugh   \n",
              "31709                            Nick Colgan   \n",
              "4300                            Peter Hucker   \n",
              "21696                            Gary Hooper   \n",
              "\n",
              "                                                    text  \n",
              "42782  alan graham judge born 14 may 1960 is a retire...  \n",
              "34838  len bond born 2 december 1954 is an english fo...  \n",
              "23099  matthew james matt green born 2 january 1987 i...  \n",
              "24116  anthony tony smith born 20 february 1957 is a ...  \n",
              "25507  peter rhoadesbrown born 2 january 1962 in hamp...  \n",
              "3785   stephen frank arnold born 5 january 1951 is an...  \n",
              "19611  george harris born 10 june 1940 is an englishb...  \n",
              "4113   keith waugh born 27 october 1956 is an english...  \n",
              "31709  nicholas vincent nick colgan born 19 september...  \n",
              "4300   peter hucker born 28 october 1959 is an englis...  \n",
              "21696  gary hooper born 26 january 1988 is an english...  "
            ],
            "text/html": [
              "\n",
              "  <div id=\"df-0cc2d60d-159f-42e9-8c6a-ab28e38eb6ef\" class=\"colab-df-container\">\n",
              "    <div>\n",
              "<style scoped>\n",
              "    .dataframe tbody tr th:only-of-type {\n",
              "        vertical-align: middle;\n",
              "    }\n",
              "\n",
              "    .dataframe tbody tr th {\n",
              "        vertical-align: top;\n",
              "    }\n",
              "\n",
              "    .dataframe thead th {\n",
              "        text-align: right;\n",
              "    }\n",
              "</style>\n",
              "<table border=\"1\" class=\"dataframe\">\n",
              "  <thead>\n",
              "    <tr style=\"text-align: right;\">\n",
              "      <th></th>\n",
              "      <th>URI</th>\n",
              "      <th>name</th>\n",
              "      <th>text</th>\n",
              "    </tr>\n",
              "  </thead>\n",
              "  <tbody>\n",
              "    <tr>\n",
              "      <th>42782</th>\n",
              "      <td>&lt;http://dbpedia.org/resource/Alan_Judge_(footb...</td>\n",
              "      <td>Alan Judge (footballer, born 1960)</td>\n",
              "      <td>alan graham judge born 14 may 1960 is a retire...</td>\n",
              "    </tr>\n",
              "    <tr>\n",
              "      <th>34838</th>\n",
              "      <td>&lt;http://dbpedia.org/resource/Len_Bond&gt;</td>\n",
              "      <td>Len Bond</td>\n",
              "      <td>len bond born 2 december 1954 is an english fo...</td>\n",
              "    </tr>\n",
              "    <tr>\n",
              "      <th>23099</th>\n",
              "      <td>&lt;http://dbpedia.org/resource/Matt_Green_(footb...</td>\n",
              "      <td>Matt Green (footballer)</td>\n",
              "      <td>matthew james matt green born 2 january 1987 i...</td>\n",
              "    </tr>\n",
              "    <tr>\n",
              "      <th>24116</th>\n",
              "      <td>&lt;http://dbpedia.org/resource/Tony_Smith_(footb...</td>\n",
              "      <td>Tony Smith (footballer, born 1957)</td>\n",
              "      <td>anthony tony smith born 20 february 1957 is a ...</td>\n",
              "    </tr>\n",
              "    <tr>\n",
              "      <th>25507</th>\n",
              "      <td>&lt;http://dbpedia.org/resource/Peter_Rhoades-Brown&gt;</td>\n",
              "      <td>Peter Rhoades-Brown</td>\n",
              "      <td>peter rhoadesbrown born 2 january 1962 in hamp...</td>\n",
              "    </tr>\n",
              "    <tr>\n",
              "      <th>3785</th>\n",
              "      <td>&lt;http://dbpedia.org/resource/Steve_Arnold_(foo...</td>\n",
              "      <td>Steve Arnold (footballer, born 1951)</td>\n",
              "      <td>stephen frank arnold born 5 january 1951 is an...</td>\n",
              "    </tr>\n",
              "    <tr>\n",
              "      <th>19611</th>\n",
              "      <td>&lt;http://dbpedia.org/resource/George_Harris_(fo...</td>\n",
              "      <td>George Harris (footballer, born 1940)</td>\n",
              "      <td>george harris born 10 june 1940 is an englishb...</td>\n",
              "    </tr>\n",
              "    <tr>\n",
              "      <th>4113</th>\n",
              "      <td>&lt;http://dbpedia.org/resource/Keith_Waugh&gt;</td>\n",
              "      <td>Keith Waugh</td>\n",
              "      <td>keith waugh born 27 october 1956 is an english...</td>\n",
              "    </tr>\n",
              "    <tr>\n",
              "      <th>31709</th>\n",
              "      <td>&lt;http://dbpedia.org/resource/Nick_Colgan&gt;</td>\n",
              "      <td>Nick Colgan</td>\n",
              "      <td>nicholas vincent nick colgan born 19 september...</td>\n",
              "    </tr>\n",
              "    <tr>\n",
              "      <th>4300</th>\n",
              "      <td>&lt;http://dbpedia.org/resource/Peter_Hucker&gt;</td>\n",
              "      <td>Peter Hucker</td>\n",
              "      <td>peter hucker born 28 october 1959 is an englis...</td>\n",
              "    </tr>\n",
              "    <tr>\n",
              "      <th>21696</th>\n",
              "      <td>&lt;http://dbpedia.org/resource/Gary_Hooper&gt;</td>\n",
              "      <td>Gary Hooper</td>\n",
              "      <td>gary hooper born 26 january 1988 is an english...</td>\n",
              "    </tr>\n",
              "  </tbody>\n",
              "</table>\n",
              "</div>\n",
              "    <div class=\"colab-df-buttons\">\n",
              "\n",
              "  <div class=\"colab-df-container\">\n",
              "    <button class=\"colab-df-convert\" onclick=\"convertToInteractive('df-0cc2d60d-159f-42e9-8c6a-ab28e38eb6ef')\"\n",
              "            title=\"Convert this dataframe to an interactive table.\"\n",
              "            style=\"display:none;\">\n",
              "\n",
              "  <svg xmlns=\"http://www.w3.org/2000/svg\" height=\"24px\" viewBox=\"0 -960 960 960\">\n",
              "    <path d=\"M120-120v-720h720v720H120Zm60-500h600v-160H180v160Zm220 220h160v-160H400v160Zm0 220h160v-160H400v160ZM180-400h160v-160H180v160Zm440 0h160v-160H620v160ZM180-180h160v-160H180v160Zm440 0h160v-160H620v160Z\"/>\n",
              "  </svg>\n",
              "    </button>\n",
              "\n",
              "  <style>\n",
              "    .colab-df-container {\n",
              "      display:flex;\n",
              "      gap: 12px;\n",
              "    }\n",
              "\n",
              "    .colab-df-convert {\n",
              "      background-color: #E8F0FE;\n",
              "      border: none;\n",
              "      border-radius: 50%;\n",
              "      cursor: pointer;\n",
              "      display: none;\n",
              "      fill: #1967D2;\n",
              "      height: 32px;\n",
              "      padding: 0 0 0 0;\n",
              "      width: 32px;\n",
              "    }\n",
              "\n",
              "    .colab-df-convert:hover {\n",
              "      background-color: #E2EBFA;\n",
              "      box-shadow: 0px 1px 2px rgba(60, 64, 67, 0.3), 0px 1px 3px 1px rgba(60, 64, 67, 0.15);\n",
              "      fill: #174EA6;\n",
              "    }\n",
              "\n",
              "    .colab-df-buttons div {\n",
              "      margin-bottom: 4px;\n",
              "    }\n",
              "\n",
              "    [theme=dark] .colab-df-convert {\n",
              "      background-color: #3B4455;\n",
              "      fill: #D2E3FC;\n",
              "    }\n",
              "\n",
              "    [theme=dark] .colab-df-convert:hover {\n",
              "      background-color: #434B5C;\n",
              "      box-shadow: 0px 1px 3px 1px rgba(0, 0, 0, 0.15);\n",
              "      filter: drop-shadow(0px 1px 2px rgba(0, 0, 0, 0.3));\n",
              "      fill: #FFFFFF;\n",
              "    }\n",
              "  </style>\n",
              "\n",
              "    <script>\n",
              "      const buttonEl =\n",
              "        document.querySelector('#df-0cc2d60d-159f-42e9-8c6a-ab28e38eb6ef button.colab-df-convert');\n",
              "      buttonEl.style.display =\n",
              "        google.colab.kernel.accessAllowed ? 'block' : 'none';\n",
              "\n",
              "      async function convertToInteractive(key) {\n",
              "        const element = document.querySelector('#df-0cc2d60d-159f-42e9-8c6a-ab28e38eb6ef');\n",
              "        const dataTable =\n",
              "          await google.colab.kernel.invokeFunction('convertToInteractive',\n",
              "                                                    [key], {});\n",
              "        if (!dataTable) return;\n",
              "\n",
              "        const docLinkHtml = 'Like what you see? Visit the ' +\n",
              "          '<a target=\"_blank\" href=https://colab.research.google.com/notebooks/data_table.ipynb>data table notebook</a>'\n",
              "          + ' to learn more about interactive tables.';\n",
              "        element.innerHTML = '';\n",
              "        dataTable['output_type'] = 'display_data';\n",
              "        await google.colab.output.renderOutput(dataTable, element);\n",
              "        const docLink = document.createElement('div');\n",
              "        docLink.innerHTML = docLinkHtml;\n",
              "        element.appendChild(docLink);\n",
              "      }\n",
              "    </script>\n",
              "  </div>\n",
              "\n",
              "\n",
              "    <div id=\"df-4399152f-7cc6-4299-b73d-b883a28c1bd6\">\n",
              "      <button class=\"colab-df-quickchart\" onclick=\"quickchart('df-4399152f-7cc6-4299-b73d-b883a28c1bd6')\"\n",
              "                title=\"Suggest charts\"\n",
              "                style=\"display:none;\">\n",
              "\n",
              "<svg xmlns=\"http://www.w3.org/2000/svg\" height=\"24px\"viewBox=\"0 0 24 24\"\n",
              "     width=\"24px\">\n",
              "    <g>\n",
              "        <path d=\"M19 3H5c-1.1 0-2 .9-2 2v14c0 1.1.9 2 2 2h14c1.1 0 2-.9 2-2V5c0-1.1-.9-2-2-2zM9 17H7v-7h2v7zm4 0h-2V7h2v10zm4 0h-2v-4h2v4z\"/>\n",
              "    </g>\n",
              "</svg>\n",
              "      </button>\n",
              "\n",
              "<style>\n",
              "  .colab-df-quickchart {\n",
              "      --bg-color: #E8F0FE;\n",
              "      --fill-color: #1967D2;\n",
              "      --hover-bg-color: #E2EBFA;\n",
              "      --hover-fill-color: #174EA6;\n",
              "      --disabled-fill-color: #AAA;\n",
              "      --disabled-bg-color: #DDD;\n",
              "  }\n",
              "\n",
              "  [theme=dark] .colab-df-quickchart {\n",
              "      --bg-color: #3B4455;\n",
              "      --fill-color: #D2E3FC;\n",
              "      --hover-bg-color: #434B5C;\n",
              "      --hover-fill-color: #FFFFFF;\n",
              "      --disabled-bg-color: #3B4455;\n",
              "      --disabled-fill-color: #666;\n",
              "  }\n",
              "\n",
              "  .colab-df-quickchart {\n",
              "    background-color: var(--bg-color);\n",
              "    border: none;\n",
              "    border-radius: 50%;\n",
              "    cursor: pointer;\n",
              "    display: none;\n",
              "    fill: var(--fill-color);\n",
              "    height: 32px;\n",
              "    padding: 0;\n",
              "    width: 32px;\n",
              "  }\n",
              "\n",
              "  .colab-df-quickchart:hover {\n",
              "    background-color: var(--hover-bg-color);\n",
              "    box-shadow: 0 1px 2px rgba(60, 64, 67, 0.3), 0 1px 3px 1px rgba(60, 64, 67, 0.15);\n",
              "    fill: var(--button-hover-fill-color);\n",
              "  }\n",
              "\n",
              "  .colab-df-quickchart-complete:disabled,\n",
              "  .colab-df-quickchart-complete:disabled:hover {\n",
              "    background-color: var(--disabled-bg-color);\n",
              "    fill: var(--disabled-fill-color);\n",
              "    box-shadow: none;\n",
              "  }\n",
              "\n",
              "  .colab-df-spinner {\n",
              "    border: 2px solid var(--fill-color);\n",
              "    border-color: transparent;\n",
              "    border-bottom-color: var(--fill-color);\n",
              "    animation:\n",
              "      spin 1s steps(1) infinite;\n",
              "  }\n",
              "\n",
              "  @keyframes spin {\n",
              "    0% {\n",
              "      border-color: transparent;\n",
              "      border-bottom-color: var(--fill-color);\n",
              "      border-left-color: var(--fill-color);\n",
              "    }\n",
              "    20% {\n",
              "      border-color: transparent;\n",
              "      border-left-color: var(--fill-color);\n",
              "      border-top-color: var(--fill-color);\n",
              "    }\n",
              "    30% {\n",
              "      border-color: transparent;\n",
              "      border-left-color: var(--fill-color);\n",
              "      border-top-color: var(--fill-color);\n",
              "      border-right-color: var(--fill-color);\n",
              "    }\n",
              "    40% {\n",
              "      border-color: transparent;\n",
              "      border-right-color: var(--fill-color);\n",
              "      border-top-color: var(--fill-color);\n",
              "    }\n",
              "    60% {\n",
              "      border-color: transparent;\n",
              "      border-right-color: var(--fill-color);\n",
              "    }\n",
              "    80% {\n",
              "      border-color: transparent;\n",
              "      border-right-color: var(--fill-color);\n",
              "      border-bottom-color: var(--fill-color);\n",
              "    }\n",
              "    90% {\n",
              "      border-color: transparent;\n",
              "      border-bottom-color: var(--fill-color);\n",
              "    }\n",
              "  }\n",
              "</style>\n",
              "\n",
              "      <script>\n",
              "        async function quickchart(key) {\n",
              "          const quickchartButtonEl =\n",
              "            document.querySelector('#' + key + ' button');\n",
              "          quickchartButtonEl.disabled = true;  // To prevent multiple clicks.\n",
              "          quickchartButtonEl.classList.add('colab-df-spinner');\n",
              "          try {\n",
              "            const charts = await google.colab.kernel.invokeFunction(\n",
              "                'suggestCharts', [key], {});\n",
              "          } catch (error) {\n",
              "            console.error('Error during call to suggestCharts:', error);\n",
              "          }\n",
              "          quickchartButtonEl.classList.remove('colab-df-spinner');\n",
              "          quickchartButtonEl.classList.add('colab-df-quickchart-complete');\n",
              "        }\n",
              "        (() => {\n",
              "          let quickchartButtonEl =\n",
              "            document.querySelector('#df-4399152f-7cc6-4299-b73d-b883a28c1bd6 button');\n",
              "          quickchartButtonEl.style.display =\n",
              "            google.colab.kernel.accessAllowed ? 'block' : 'none';\n",
              "        })();\n",
              "      </script>\n",
              "    </div>\n",
              "\n",
              "  <div id=\"id_8b7d0951-9c76-4559-b93a-e6fffd13c5ba\">\n",
              "    <style>\n",
              "      .colab-df-generate {\n",
              "        background-color: #E8F0FE;\n",
              "        border: none;\n",
              "        border-radius: 50%;\n",
              "        cursor: pointer;\n",
              "        display: none;\n",
              "        fill: #1967D2;\n",
              "        height: 32px;\n",
              "        padding: 0 0 0 0;\n",
              "        width: 32px;\n",
              "      }\n",
              "\n",
              "      .colab-df-generate:hover {\n",
              "        background-color: #E2EBFA;\n",
              "        box-shadow: 0px 1px 2px rgba(60, 64, 67, 0.3), 0px 1px 3px 1px rgba(60, 64, 67, 0.15);\n",
              "        fill: #174EA6;\n",
              "      }\n",
              "\n",
              "      [theme=dark] .colab-df-generate {\n",
              "        background-color: #3B4455;\n",
              "        fill: #D2E3FC;\n",
              "      }\n",
              "\n",
              "      [theme=dark] .colab-df-generate:hover {\n",
              "        background-color: #434B5C;\n",
              "        box-shadow: 0px 1px 3px 1px rgba(0, 0, 0, 0.15);\n",
              "        filter: drop-shadow(0px 1px 2px rgba(0, 0, 0, 0.3));\n",
              "        fill: #FFFFFF;\n",
              "      }\n",
              "    </style>\n",
              "    <button class=\"colab-df-generate\" onclick=\"generateWithVariable('target_pp_df')\"\n",
              "            title=\"Generate code using this dataframe.\"\n",
              "            style=\"display:none;\">\n",
              "\n",
              "  <svg xmlns=\"http://www.w3.org/2000/svg\" height=\"24px\"viewBox=\"0 0 24 24\"\n",
              "       width=\"24px\">\n",
              "    <path d=\"M7,19H8.4L18.45,9,17,7.55,7,17.6ZM5,21V16.75L18.45,3.32a2,2,0,0,1,2.83,0l1.4,1.43a1.91,1.91,0,0,1,.58,1.4,1.91,1.91,0,0,1-.58,1.4L9.25,21ZM18.45,9,17,7.55Zm-12,3A5.31,5.31,0,0,0,4.9,8.1,5.31,5.31,0,0,0,1,6.5,5.31,5.31,0,0,0,4.9,4.9,5.31,5.31,0,0,0,6.5,1,5.31,5.31,0,0,0,8.1,4.9,5.31,5.31,0,0,0,12,6.5,5.46,5.46,0,0,0,6.5,12Z\"/>\n",
              "  </svg>\n",
              "    </button>\n",
              "    <script>\n",
              "      (() => {\n",
              "      const buttonEl =\n",
              "        document.querySelector('#id_8b7d0951-9c76-4559-b93a-e6fffd13c5ba button.colab-df-generate');\n",
              "      buttonEl.style.display =\n",
              "        google.colab.kernel.accessAllowed ? 'block' : 'none';\n",
              "\n",
              "      buttonEl.onclick = () => {\n",
              "        google.colab.notebook.generateWithVariable('target_pp_df');\n",
              "      }\n",
              "      })();\n",
              "    </script>\n",
              "  </div>\n",
              "\n",
              "    </div>\n",
              "  </div>\n"
            ],
            "application/vnd.google.colaboratory.intrinsic+json": {
              "type": "dataframe",
              "variable_name": "target_pp_df",
              "summary": "{\n  \"name\": \"target_pp_df\",\n  \"rows\": 11,\n  \"fields\": [\n    {\n      \"column\": \"URI\",\n      \"properties\": {\n        \"dtype\": \"string\",\n        \"num_unique_values\": 11,\n        \"samples\": [\n          \"<http://dbpedia.org/resource/Steve_Arnold_(footballer,_born_1951)>\",\n          \"<http://dbpedia.org/resource/Alan_Judge_(footballer,_born_1960)>\",\n          \"<http://dbpedia.org/resource/Peter_Hucker>\"\n        ],\n        \"semantic_type\": \"\",\n        \"description\": \"\"\n      }\n    },\n    {\n      \"column\": \"name\",\n      \"properties\": {\n        \"dtype\": \"string\",\n        \"num_unique_values\": 11,\n        \"samples\": [\n          \"Steve Arnold (footballer, born 1951)\",\n          \"Alan Judge (footballer, born 1960)\",\n          \"Peter Hucker\"\n        ],\n        \"semantic_type\": \"\",\n        \"description\": \"\"\n      }\n    },\n    {\n      \"column\": \"text\",\n      \"properties\": {\n        \"dtype\": \"string\",\n        \"num_unique_values\": 11,\n        \"samples\": [\n          \"stephen frank arnold born 5 january 1951 is an english former professional footballer who played in the football league as a midfielder for crewe alexandra liverpool southport torquay united and rochdalearnold was born in willesden london he began his football career as an apprentice at crewe alexandra turning professional in january 1969 and making his league debut the same season his talent was soon spotted by bigger teams and in september 1970 after only 15 league appearances he became a forerunner to the many players to leave crewe for the top flight when he joined liverpool for a fee of 12000 he failed to establish himself at anfield making only two league appearances his only start was in the penultimate league match of the season away to manchester city when bill shankly made ten changes to protect his firstchoice players before the fairs cup semifinal against leeds united just two days later incurring a heavy fine from the football leaguein january 1972 he was sent on loan to southport scoring 3 times in 16 league appearances and in september of the following season he was loaned to torquay united making his debut in the goalless draw away to bury on 2 september he played twice more for the gulls scoring in his final appearance a 21 defeat away to league newcomers hereford united on 30 september in june 1973 he left anfield moving to rochdale where he was to end his league career after only one season of regular firstteam football making 40 league appearances and scoring oncehe went on to play nonleague football for weymouth scoring 14 goals from 57 appearances and on loan to dorchester town 13 appearances before injury forced his retirement\",\n          \"alan graham judge born 14 may 1960 is a retired professional footballer who is the seventh oldest player to play in the football league he played as a goalkeeperduring his career he played for various clubs at all tiers of the league he was part of the oxford united team which won the milk cup in 1986 he also briefly served as a backup goalkeeper for chelsea in the european cup winners cupoften referred to as the judge after retiring from the professional game alan worked as a driving instructor and goalkeeping coach at several clubs including swindon and oxford occasionally acting as emergency goalkeeping cover in 2001 he organised a rerun of the 1986 milk cup final against qpr for charity on 18 march 2003 at the age of 42 he played his first football league match since leaving hereford united in 1994 he helped oxford to a 11 draw with cambridge united making a vital save in stoppage time during the 200304 season he also made several appearances for didcot town he made a second appearance for oxford on 6 november 2004 at the age of 44 years and 176 days this made him the seventh oldest footballer ever to have appeared in the football league or premier league 1judge now plays for banbury united and has made 17 league appearances so far this season he is also a goalkeeping coach at oxford city\",\n          \"peter hucker born 28 october 1959 is an english former footballer who played as a goalkeeper in the football league during the 1980s and early 1990sborn in hampstead he joined queens park rangers as a schoolboy in december 1974 signed apprentice forms in july 1976 and turned professional in july 1977 making his league debut against shrewsbury town in 1981 hucker had been at the club since he was a junior but had played very few gameshe had seen a succession of managers bring their own preferred goalkeepers in while he bided his time in the reserveshe got his big chance in a fa cup third round tie at loftus road in 1982 against middlesbrough the firstchoice keeper at the time john burridge was injured but was also not very keen on playing on the synthetic playing surface that loftus road had at the time hucker played very well in the cup tie and retained his place for the remainder of the season including in the 1982 fa cup final against tottenham hotspur in which he was voted the man of the match for his performance in the first game in which he played extremely well despite being injuredhucker was to play a key role the following season as well as qpr stormed to the second division title and then the following year as rangers finished top london club in the 198384 season qualifying for the uefa cup like many of the talented players of that team his form suffered as terry venables left the club in 1984 to be replaced by alan mullery he lost his place during the 198586 season to paul barron and he transferred to oxford united in february 1987 hucker played 160 league games for qprin a threeyear spell at oxford hucker played 66 league matches but towards the end of his time there he went on several loan spells first to west bromwich albion in 198788 making seven appearances and then twice to manchester united without making a single appearancehe finished his career in nonleague football and went on to establish a successful goalkeeping coaching school after retiring from the game\"\n        ],\n        \"semantic_type\": \"\",\n        \"description\": \"\"\n      }\n    }\n  ]\n}"
            }
          },
          "metadata": {},
          "execution_count": 62
        }
      ]
    },
    {
      "cell_type": "code",
      "source": [
        "# 10 Closest people\n",
        "# https://en.wikipedia.org/wiki/Len_Bond\n",
        "# https://en.wikipedia.org/wiki/Matt_Green_(footballer)\n",
        "# https://en.wikipedia.org/wiki/Tony_Smith_(footballer,_born_1957)\n",
        "# https://en.wikipedia.org/wiki/Peter_Rhoades-Brown\n",
        "# https://en.wikipedia.org/wiki/Steve_Arnold_(footballer,_born_1951)\n",
        "# https://en.wikipedia.org/wiki/George_Harris_(footballer,_born_1940)\n",
        "# https://en.wikipedia.org/wiki/Keith_Waugh\n",
        "# https://en.wikipedia.org/wiki/Nick_Colgan\n",
        "# https://en.wikipedia.org/wiki/Peter_Hucker\n",
        "# https://en.wikipedia.org/wiki/Gary_Hooper\n",
        "\n",
        "title = ['Len_Bond',\n",
        "         'Matt_Green_(footballer)',\n",
        "         'Tony_Smith_(footballer,_born_1957)',\n",
        "         'Peter_Rhoades-Brown',\n",
        "         'Steve_Arnold_(footballer,_born_1951)',\n",
        "         'George_Harris_(footballer,_born_1940)',\n",
        "         'Keith_Waugh',\n",
        "         'Nick_Colgan',\n",
        "         'Peter_Hucker',\n",
        "         'Gary_Hooper'\n",
        "         ]\n",
        "\n",
        "wikip = wikipediaapi.Wikipedia('foobar')\n",
        "\n",
        "# Initialize an empty list to store the Wikipedia texts\n",
        "all_wiki_texts = []\n",
        "\n",
        "for topic_title in title:\n",
        "    page_ex = wikip.page(topic_title)\n",
        "\n",
        "    if page_ex.exists():\n",
        "        wiki_text = page_ex.text\n",
        "        all_wiki_texts.append(wiki_text) # Add the text to the list\n",
        "        print(f\"--- Collected text for: {topic_title} ---\")\n",
        "    else:\n",
        "        print(f\"--- Warning: Page for '{topic_title}' does not exist. Skipping. ---\")\n",
        "\n",
        "# Now, 'all_wiki_texts' contains all the collected Wikipedia article texts\n",
        "print(\"\\n--- All collected texts (500 characters) : ---\")\n",
        "for i, text in enumerate(all_wiki_texts):\n",
        "    print(f\"Article {i+1}: {text[:500]}...\") # Print 500 characters of each collected text"
      ],
      "metadata": {
        "colab": {
          "base_uri": "https://localhost:8080/"
        },
        "collapsed": true,
        "id": "PLJ8OeqmcVaS",
        "outputId": "6e0ac7fe-54b5-4192-dbc9-48660c3b67f3"
      },
      "execution_count": null,
      "outputs": [
        {
          "output_type": "stream",
          "name": "stdout",
          "text": [
            "--- Collected text for: Len_Bond ---\n",
            "--- Collected text for: Matt_Green_(footballer) ---\n",
            "--- Collected text for: Tony_Smith_(footballer,_born_1957) ---\n",
            "--- Collected text for: Peter_Rhoades-Brown ---\n",
            "--- Collected text for: Steve_Arnold_(footballer,_born_1951) ---\n",
            "--- Collected text for: George_Harris_(footballer,_born_1940) ---\n",
            "--- Collected text for: Keith_Waugh ---\n",
            "--- Collected text for: Nick_Colgan ---\n",
            "--- Collected text for: Peter_Hucker ---\n",
            "--- Collected text for: Gary_Hooper ---\n",
            "\n",
            "--- All collected texts (500 characters) : ---\n",
            "Article 1: Len Bond (born 2 December 1954) is an English former professional football goalkeeper. He made more than 300 appearances in the Football League, including 168 for Exeter City and 122 for Brentford.\n",
            "\n",
            "Career\n",
            "Bond was born in Ilminster, Somerset. He began his career as an apprentice with Bristol City, turning professional in September 1971, although he had made his league debut on the last day of the previous season. He remained at Ashton Gate for a further six years, most of which was spent as dep...\n",
            "Article 2: Matthew James Green (born 2 January 1987) is a former English footballer who played as a striker.\n",
            "Green started his senior career at Conference South club Newport County in 2005, having been released from Bristol City's youth academy. He made 56 league appearances for Newport County in a two-season spell at the club, before joining Championship side Cardiff City in January 2007. Having made six appearances for Cardiff during the 2006–07 season, he had three loan spells away from the club the fol...\n",
            "Article 3: Anthony Smith (born 20 February 1957) is an English former footballer who played as a central defender in The Football League in the 1970s and 1980s.\n",
            "He was born in Sunderland but joined Newcastle United as a youth, and made his senior debut as a substitute for Nigel Walker against Wolverhampton Wanderers on 12 November 1977. He started the next match at home to Arsenal, but was not able to make any more senior appearances in a struggling team. Smith was transferred to Peterborough United in Mar...\n",
            "Article 4: Peter Rhoades-Brown (born 2 January 1962) is an English retired footballer.\n",
            "Rhoades-Brown played as a left-winger for Chelsea from 1979 to 1983; during his four years with Chelsea, he scored four League goals. When Chelsea signed winger Mickey Thomas in January 1984, Rhoades-Brown was sold to Third Division side Oxford United for £85,000.\n",
            "He immediately gained a regular place with Oxford, helping them win promotion to the First Division for the first time. An untimely injury, coincidentally agai...\n",
            "Article 5: Stephen Frank Arnold (born 5 January 1951) is an English former professional footballer who played in the Football League as a midfielder for Crewe Alexandra, Liverpool, Southport, Torquay United and Rochdale.\n",
            "\n",
            "Life and career\n",
            "Arnold was born in Willesden, London. He began his football career as an apprentice at Crewe Alexandra, turning professional in January 1969 and making his league debut the same season. His talent was soon spotted by bigger teams and in September 1970, after only 15 league...\n",
            "Article 6: George Alfred Harris (10 June 1940 – 8 February 2022) was an English footballer who played as a winger in the Football League in the 1960s and early 1970s.\n",
            "Harris was born on 10 June 1940. After starting with Woking he moved to Newport County and played 31 League games for them in the 1961–62 season, before moving to Watford. He played 163 League games for the Hornets and scored 55 goals.\n",
            "In 1966 Harris moved to Reading, and he remained with the Berkshire club until 1969, gaining the player of t...\n",
            "Article 7: Keith Waugh (born 27 October 1956) is an English-born footballer who played as a goalkeeper in the Football League between the 1970s and 1990s, most notably with Peterborough United, Sheffield United and Bristol City.\n",
            "He started as a trainee with Sunderland, but did not play any League games with them, and he moved to Peterborough United, first playing a league game for them in 1976–77. He went on to make 195 League appearances for The Posh.\n",
            "He moved to Sheffield United in 1981 for a fee of £100...\n",
            "Article 8: Nicholas Vincent Colgan (born 19 September 1973) is an Irish football coach and former professional footballer who is goalkeeping coach at EFL League One side Stockport County.\n",
            "As a player, he was a goalkeeper from 1991 to 2013 and first briefly played for his hometown club Drogheda United between 1991 and 1992 before signing for Premier League side Chelsea. Whilst at Stamford Bridge he often found himself as back-up to the likes of Dmitri Kharine and Frode Grodas and spent time on loan at Crewe...\n",
            "Article 9: Peter Hucker (born 28 October 1959) is an English former footballer who played as a goalkeeper in The Football League during the 1980s and early 1990s.\n",
            "Born in Hampstead, he joined Queens Park Rangers as a schoolboy in December 1974, signed apprentice forms in July 1976 and turned professional in July 1977, making his league debut against Shrewsbury Town in 1981. Hucker had been at the club since he was a junior but had played very few games. He had seen a succession of managers bring their own ...\n",
            "Article 10: Gary Hooper (born 26 January 1988) is an English professional footballer who plays as a forward for Maldon & Tiptree.\n",
            "Hooper started his career at non-League club Grays Athletic in 2003. While there he won the 2004–05 Conference South, as well as the FA Trophy twice in 2005 and 2006. After this Championship club Southend United signed him on a free transfer in 2006. He was loaned out twice by the club, on a three-month loan to League One club Leyton Orient in 2007 and a six-month loan to League ...\n"
          ]
        }
      ]
    },
    {
      "cell_type": "markdown",
      "source": [
        "## Nearness Ranking\n",
        "- 10 people to the target person"
      ],
      "metadata": {
        "id": "oa2p9mG2UqMl"
      }
    },
    {
      "cell_type": "code",
      "source": [
        "# Combine all steps to obtain Nearness Ranking to 'Alan_Judge_(English_footballer)' based on Wikipedia content\n",
        "# Step 1. Define your data and target person\n",
        "people_titles = [\n",
        "    'Len_Bond',\n",
        "    'Matt_Green_(footballer)',\n",
        "    'Tony_Smith_(footballer,_born_1957)',\n",
        "    'Peter_Rhoades-Brown',\n",
        "    'Steve_Arnold_(footballer,_born_1951)',\n",
        "    'George_Harris_(footballer,_born_1940)',\n",
        "    'Keith_Waugh',\n",
        "    'Nick_Colgan',\n",
        "    'Peter_Hucker',\n",
        "    'Gary_Hooper'\n",
        "]\n",
        "# Target person\n",
        "target_person_title = 'Alan_Judge_(English_footballer)'\n",
        "\n",
        "# Step 2. Fetch Wikipedia content\n",
        "# note: foobar = user_agent\n",
        "wikip = wikipediaapi.Wikipedia('foobar')\n",
        "\n",
        "def get_wiki_text(title):\n",
        "    page = wikip.page(title)\n",
        "    if page.exists():\n",
        "        text = page.text\n",
        "        # Remove text within parentheses like \"(born 1957)\" from the start of sections\n",
        "        text = re.sub(r'\\([^)]*\\)', '', text)\n",
        "        # Remove common Wikipedia section headers and \"See also\", \"References\"\n",
        "        text = re.sub(r'==\\s*[^=]+\\s*==', '', text)\n",
        "        text = re.sub(r'== See also ==|== References ==|== External links ==', '', text)\n",
        "        # Remove non-alphanumeric and remove extra spaces\n",
        "        text = re.sub(r'[^a-zA-Z\\s]', '', text)\n",
        "        text = re.sub(r'\\s+', ' ', text).strip()\n",
        "        return text\n",
        "    else:\n",
        "        print(f\"Warning: Page for '{title}' does not exist. Skipping.\")\n",
        "        return None\n",
        "\n",
        "# Collect all texts, including the target person\n",
        "all_texts = {}\n",
        "for title in people_titles + [target_person_title]:\n",
        "    text = get_wiki_text(title)\n",
        "    if text:\n",
        "        all_texts[title] = text\n",
        "\n",
        "# Separate the target person's text from the rest\n",
        "target_text = all_texts.pop(target_person_title, None)\n",
        "if target_text is None:\n",
        "    print(f\"Error: Could not retrieve Wikipedia page for target person: {target_person_title}\")\n",
        "    exit() # Exit if target person's page is not found\n",
        "\n",
        "# Prepare the list of texts for vectorization\n",
        "corpus_titles = list(all_texts.keys())\n",
        "corpus_texts = list(all_texts.values())\n",
        "\n",
        "# Add target text to the corpus for consistent vectorization\n",
        "corpus_texts_with_target = corpus_texts + [target_text]\n",
        "corpus_titles_with_target = corpus_titles + [target_person_title]\n",
        "\n",
        "# Step 3. Vectorize the Text\n",
        "# TfidfVectorizer converts a collection of raw documents to a matrix of TF-IDF features.\n",
        "# It handles lowercasing, punctuation removal, and stop word removal by default.\n",
        "vectorizer = TfidfVectorizer(stop_words='english', max_features=5000) # max_features to limit vocabulary size\n",
        "tfidf_matrix = vectorizer.fit_transform(corpus_texts_with_target)\n",
        "\n",
        "# The last row of the tfidf_matrix corresponds to the target person's text\n",
        "target_person_vector = tfidf_matrix[-1]\n",
        "other_people_vectors = tfidf_matrix[:-1]\n",
        "\n",
        "# Step 4. Calculate Similarities (Cosine Similarity)\n",
        "# Reshape target_person_vector to be 2D for cosine_similarity\n",
        "similarities = cosine_similarity(target_person_vector.reshape(1, -1), other_people_vectors)\n",
        "\n",
        "# Take the first row only\n",
        "similarity_scores = similarities[0]\n",
        "\n",
        "# Step 5. Rank by Nearness\n",
        "# Create a list of (person_title, similarity_score) tuples\n",
        "ranked_people = [] # list name (an empty variable)\n",
        "for i, score in enumerate(similarity_scores):\n",
        "    ranked_people.append((corpus_titles[i], score))\n",
        "\n",
        "# Sort the list by similarity score in descending order (highest similarity is \"nearest\")\n",
        "ranked_people.sort(key=lambda x: x[1], reverse=True)\n",
        "\n",
        "print(f\"\\nNearness Ranking to '{target_person_title}' based on Wikipedia content:\")\n",
        "for rank, (person, score) in enumerate(ranked_people):\n",
        "    print(f\"{rank + 1}. {person}: {score:.4f} (Similarity)\") # format score to 4 decimal points"
      ],
      "metadata": {
        "colab": {
          "base_uri": "https://localhost:8080/"
        },
        "id": "vTXGZ57IkU2q",
        "outputId": "04f961e3-4f38-4078-849c-e8da8ae0745f"
      },
      "execution_count": null,
      "outputs": [
        {
          "output_type": "stream",
          "name": "stdout",
          "text": [
            "\n",
            "Nearness Ranking to 'Alan_Judge_(English_footballer)' based on Wikipedia content:\n",
            "1. Peter_Rhoades-Brown: 0.2671 (Similarity)\n",
            "2. Peter_Hucker: 0.2359 (Similarity)\n",
            "3. Tony_Smith_(footballer,_born_1957): 0.2065 (Similarity)\n",
            "4. Steve_Arnold_(footballer,_born_1951): 0.1906 (Similarity)\n",
            "5. George_Harris_(footballer,_born_1940): 0.1899 (Similarity)\n",
            "6. Len_Bond: 0.1802 (Similarity)\n",
            "7. Keith_Waugh: 0.1760 (Similarity)\n",
            "8. Matt_Green_(footballer): 0.1641 (Similarity)\n",
            "9. Nick_Colgan: 0.1502 (Similarity)\n",
            "10. Gary_Hooper: 0.1253 (Similarity)\n"
          ]
        }
      ]
    },
    {
      "cell_type": "code",
      "source": [
        "import matplotlib.pyplot as plt"
      ],
      "metadata": {
        "id": "mAKXh9jIZG09"
      },
      "execution_count": null,
      "outputs": []
    },
    {
      "cell_type": "markdown",
      "metadata": {
        "id": "xEIw9hfFObw7"
      },
      "source": [
        "# Part 3)\n"
      ]
    },
    {
      "cell_type": "markdown",
      "metadata": {
        "id": "SVW0y4Axty7A"
      },
      "source": [
        "Make an interactive notebook where a user can choose or enter a name and the notebook displays the 10 closest individuals.\n"
      ]
    },
    {
      "cell_type": "code",
      "source": [
        "!curl -s https://ddc-datascience.s3.amazonaws.com/Projects/Project.5-NLP/Data/NLP.csv | wc -l"
      ],
      "metadata": {
        "id": "t6dopgR3vfDU",
        "colab": {
          "base_uri": "https://localhost:8080/"
        },
        "outputId": "17b2336d-6275-496e-e0fe-7bf8a6d5f3db"
      },
      "execution_count": null,
      "outputs": [
        {
          "output_type": "stream",
          "name": "stdout",
          "text": [
            "42786\n"
          ]
        }
      ]
    },
    {
      "cell_type": "code",
      "source": [
        "from ipywidgets import interact"
      ],
      "metadata": {
        "id": "yHBJAbrGviBT"
      },
      "execution_count": null,
      "outputs": []
    },
    {
      "cell_type": "markdown",
      "source": [
        "## Do not know how to fix the code below...still figuring out..."
      ],
      "metadata": {
        "id": "nALhy8F5DwCb"
      }
    },
    {
      "cell_type": "code",
      "source": [
        "# Target person\n",
        "target_person_title = 'Alan_Judge_(English_footballer)'\n",
        "\n",
        "@interact(text = ['Len Bond',\n",
        "                  'Matt Green',\n",
        "                  'Tony Smith',\n",
        "                  'Peter Rhoades-Brown',\n",
        "                  'Steve Arnold',\n",
        "                  'George Harris',\n",
        "                  'Keith Waugh',\n",
        "                  'Nick Colgan',\n",
        "                  'Peter Hucker',\n",
        "                  'Gary Hooper'])\n",
        "def knn(text):\n",
        "  distances, indices = nn.kneighbors(\n",
        "  X = npl_ref_matrix,\n",
        "  n_neighbors = 11,\n",
        "  )\n",
        "  for a,b in (distances[0], np.array(npl_blob_singular)[indices][0]):\n",
        "   print(f\"The distance of {text} from {target_person_title} is {distances:.4f}: {indices}\".format(text))\n"
      ],
      "metadata": {
        "colab": {
          "base_uri": "https://localhost:8080/",
          "height": 49,
          "referenced_widgets": [
            "63e5248bfecc494489692c26128504a9",
            "ff9fd27d66cb44d78e284b0a4d60cf09",
            "4fe95f39c2b146e89fc8526f420569a8",
            "f4be6d44edb2425e82f1a97d94cec203",
            "c0488f95bf6840acb431e493e80346a6",
            "2165f238daa241cd8ca63c9e25ea6c6a",
            "ca72aac290ad417d826619892b688c7c"
          ]
        },
        "id": "GabsWqC312s5",
        "outputId": "cda2e1fd-091c-4fc8-d938-111ac136c481"
      },
      "execution_count": null,
      "outputs": [
        {
          "output_type": "display_data",
          "data": {
            "text/plain": [
              "interactive(children=(Dropdown(description='text', options=('Len Bond', 'Matt Green', 'Tony Smith', 'Peter Rho…"
            ],
            "application/vnd.jupyter.widget-view+json": {
              "version_major": 2,
              "version_minor": 0,
              "model_id": "63e5248bfecc494489692c26128504a9"
            }
          },
          "metadata": {}
        }
      ]
    },
    {
      "cell_type": "markdown",
      "source": [
        "# References\n",
        "\n",
        "- Module 5: Data cleanning | TextBlob | TF-IDF transformation | K Nearest Neighbors\n",
        "  - Lecture 2b: https://colab.research.google.com/drive/1eIY8PPxqnH4izK7WV9BS5lX7S2WnnzDz?authuser=1#scrollTo=xDuCEa4Z-mwb\n",
        "  - Lecture 3c: https://colab.research.google.com/drive/1IJ4Kzy6OX78YcEd8B6-DQxuBnftBqz98?authuser=1#scrollTo=xDuCEa4Z-mwb\n",
        "  - Lecture 4a: https://colab.research.google.com/drive/1im3J4Y0xgtn_rPA8ETJ_43q4VQjoNs6n?authuser=1#scrollTo=yuFf00oinAiU\n",
        "\n",
        "- Module 4: Interact\n",
        "  - Lecture 2g: https://colab.research.google.com/drive/1dy0VG55NfM9zv_eosKJ1xbYXVbNHSodW?authuser=1#scrollTo=xAoHSexy5d8W\n",
        "\n"
      ],
      "metadata": {
        "id": "Vtrm2KuGetyV"
      }
    }
  ],
  "metadata": {
    "colab": {
      "provenance": [],
      "include_colab_link": true
    },
    "kernelspec": {
      "display_name": "Python 3 (ipykernel)",
      "language": "python",
      "name": "python3"
    },
    "language_info": {
      "codemirror_mode": {
        "name": "ipython",
        "version": 3
      },
      "file_extension": ".py",
      "mimetype": "text/x-python",
      "name": "python",
      "nbconvert_exporter": "python",
      "pygments_lexer": "ipython3",
      "version": "3.10.12"
    },
    "widgets": {
      "application/vnd.jupyter.widget-state+json": {
        "63e5248bfecc494489692c26128504a9": {
          "model_module": "@jupyter-widgets/controls",
          "model_name": "VBoxModel",
          "model_module_version": "1.5.0",
          "state": {
            "_dom_classes": [
              "widget-interact"
            ],
            "_model_module": "@jupyter-widgets/controls",
            "_model_module_version": "1.5.0",
            "_model_name": "VBoxModel",
            "_view_count": null,
            "_view_module": "@jupyter-widgets/controls",
            "_view_module_version": "1.5.0",
            "_view_name": "VBoxView",
            "box_style": "",
            "children": [
              "IPY_MODEL_ff9fd27d66cb44d78e284b0a4d60cf09",
              "IPY_MODEL_4fe95f39c2b146e89fc8526f420569a8"
            ],
            "layout": "IPY_MODEL_f4be6d44edb2425e82f1a97d94cec203"
          }
        },
        "ff9fd27d66cb44d78e284b0a4d60cf09": {
          "model_module": "@jupyter-widgets/controls",
          "model_name": "DropdownModel",
          "model_module_version": "1.5.0",
          "state": {
            "_dom_classes": [],
            "_model_module": "@jupyter-widgets/controls",
            "_model_module_version": "1.5.0",
            "_model_name": "DropdownModel",
            "_options_labels": [
              "Len Bond",
              "Matt Green",
              "Tony Smith",
              "Peter Rhoades-Brown",
              "Steve Arnold",
              "George Harris",
              "Keith Waugh",
              "Nick Colgan",
              "Peter Hucker",
              "Gary Hooper"
            ],
            "_view_count": null,
            "_view_module": "@jupyter-widgets/controls",
            "_view_module_version": "1.5.0",
            "_view_name": "DropdownView",
            "description": "text",
            "description_tooltip": null,
            "disabled": false,
            "index": 1,
            "layout": "IPY_MODEL_c0488f95bf6840acb431e493e80346a6",
            "style": "IPY_MODEL_2165f238daa241cd8ca63c9e25ea6c6a"
          }
        },
        "4fe95f39c2b146e89fc8526f420569a8": {
          "model_module": "@jupyter-widgets/output",
          "model_name": "OutputModel",
          "model_module_version": "1.0.0",
          "state": {
            "_dom_classes": [],
            "_model_module": "@jupyter-widgets/output",
            "_model_module_version": "1.0.0",
            "_model_name": "OutputModel",
            "_view_count": null,
            "_view_module": "@jupyter-widgets/output",
            "_view_module_version": "1.0.0",
            "_view_name": "OutputView",
            "layout": "IPY_MODEL_ca72aac290ad417d826619892b688c7c",
            "msg_id": "",
            "outputs": []
          }
        },
        "f4be6d44edb2425e82f1a97d94cec203": {
          "model_module": "@jupyter-widgets/base",
          "model_name": "LayoutModel",
          "model_module_version": "1.2.0",
          "state": {
            "_model_module": "@jupyter-widgets/base",
            "_model_module_version": "1.2.0",
            "_model_name": "LayoutModel",
            "_view_count": null,
            "_view_module": "@jupyter-widgets/base",
            "_view_module_version": "1.2.0",
            "_view_name": "LayoutView",
            "align_content": null,
            "align_items": null,
            "align_self": null,
            "border": null,
            "bottom": null,
            "display": null,
            "flex": null,
            "flex_flow": null,
            "grid_area": null,
            "grid_auto_columns": null,
            "grid_auto_flow": null,
            "grid_auto_rows": null,
            "grid_column": null,
            "grid_gap": null,
            "grid_row": null,
            "grid_template_areas": null,
            "grid_template_columns": null,
            "grid_template_rows": null,
            "height": null,
            "justify_content": null,
            "justify_items": null,
            "left": null,
            "margin": null,
            "max_height": null,
            "max_width": null,
            "min_height": null,
            "min_width": null,
            "object_fit": null,
            "object_position": null,
            "order": null,
            "overflow": null,
            "overflow_x": null,
            "overflow_y": null,
            "padding": null,
            "right": null,
            "top": null,
            "visibility": null,
            "width": null
          }
        },
        "c0488f95bf6840acb431e493e80346a6": {
          "model_module": "@jupyter-widgets/base",
          "model_name": "LayoutModel",
          "model_module_version": "1.2.0",
          "state": {
            "_model_module": "@jupyter-widgets/base",
            "_model_module_version": "1.2.0",
            "_model_name": "LayoutModel",
            "_view_count": null,
            "_view_module": "@jupyter-widgets/base",
            "_view_module_version": "1.2.0",
            "_view_name": "LayoutView",
            "align_content": null,
            "align_items": null,
            "align_self": null,
            "border": null,
            "bottom": null,
            "display": null,
            "flex": null,
            "flex_flow": null,
            "grid_area": null,
            "grid_auto_columns": null,
            "grid_auto_flow": null,
            "grid_auto_rows": null,
            "grid_column": null,
            "grid_gap": null,
            "grid_row": null,
            "grid_template_areas": null,
            "grid_template_columns": null,
            "grid_template_rows": null,
            "height": null,
            "justify_content": null,
            "justify_items": null,
            "left": null,
            "margin": null,
            "max_height": null,
            "max_width": null,
            "min_height": null,
            "min_width": null,
            "object_fit": null,
            "object_position": null,
            "order": null,
            "overflow": null,
            "overflow_x": null,
            "overflow_y": null,
            "padding": null,
            "right": null,
            "top": null,
            "visibility": null,
            "width": null
          }
        },
        "2165f238daa241cd8ca63c9e25ea6c6a": {
          "model_module": "@jupyter-widgets/controls",
          "model_name": "DescriptionStyleModel",
          "model_module_version": "1.5.0",
          "state": {
            "_model_module": "@jupyter-widgets/controls",
            "_model_module_version": "1.5.0",
            "_model_name": "DescriptionStyleModel",
            "_view_count": null,
            "_view_module": "@jupyter-widgets/base",
            "_view_module_version": "1.2.0",
            "_view_name": "StyleView",
            "description_width": ""
          }
        },
        "ca72aac290ad417d826619892b688c7c": {
          "model_module": "@jupyter-widgets/base",
          "model_name": "LayoutModel",
          "model_module_version": "1.2.0",
          "state": {
            "_model_module": "@jupyter-widgets/base",
            "_model_module_version": "1.2.0",
            "_model_name": "LayoutModel",
            "_view_count": null,
            "_view_module": "@jupyter-widgets/base",
            "_view_module_version": "1.2.0",
            "_view_name": "LayoutView",
            "align_content": null,
            "align_items": null,
            "align_self": null,
            "border": null,
            "bottom": null,
            "display": null,
            "flex": null,
            "flex_flow": null,
            "grid_area": null,
            "grid_auto_columns": null,
            "grid_auto_flow": null,
            "grid_auto_rows": null,
            "grid_column": null,
            "grid_gap": null,
            "grid_row": null,
            "grid_template_areas": null,
            "grid_template_columns": null,
            "grid_template_rows": null,
            "height": null,
            "justify_content": null,
            "justify_items": null,
            "left": null,
            "margin": null,
            "max_height": null,
            "max_width": null,
            "min_height": null,
            "min_width": null,
            "object_fit": null,
            "object_position": null,
            "order": null,
            "overflow": null,
            "overflow_x": null,
            "overflow_y": null,
            "padding": null,
            "right": null,
            "top": null,
            "visibility": null,
            "width": null
          }
        }
      }
    }
  },
  "nbformat": 4,
  "nbformat_minor": 0
}